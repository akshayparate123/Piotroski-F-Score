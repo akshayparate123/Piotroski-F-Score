{
 "cells": [
  {
   "cell_type": "code",
   "execution_count": 1,
   "id": "df9ab929-f64d-44aa-9fc1-7eb793575822",
   "metadata": {},
   "outputs": [],
   "source": [
    "# !pip install sqlalchemy\n",
    "# !pip install seaborn\n",
    "# !pip install pymysql"
   ]
  },
  {
   "cell_type": "code",
   "execution_count": 1,
   "id": "592e2aed-b1f6-4148-8ee7-2acdb11ef411",
   "metadata": {},
   "outputs": [],
   "source": [
    "from sqlalchemy import create_engine,inspect\n",
    "import pandas as pd\n",
    "import numpy as np\n",
    "import seaborn as sns\n",
    "import matplotlib.pyplot as plt\n",
    "import json"
   ]
  },
  {
   "cell_type": "markdown",
   "id": "8a9f3b0a-fba7-427e-8e3d-f09880438599",
   "metadata": {},
   "source": [
    "### Fetching Data"
   ]
  },
  {
   "cell_type": "code",
   "execution_count": 2,
   "id": "25efbd71-0f9f-4594-98b0-2d33b852632e",
   "metadata": {},
   "outputs": [],
   "source": [
    "sql_creds = json.load(open(\"creds.json\"))"
   ]
  },
  {
   "cell_type": "code",
   "execution_count": 3,
   "id": "fb9f025e-793e-458c-b2f6-a0149852c0cb",
   "metadata": {},
   "outputs": [],
   "source": [
    "# sql_creds[\"sql_creds\"]"
   ]
  },
  {
   "cell_type": "code",
   "execution_count": 4,
   "id": "eb0205fb-d82b-43d3-8d31-02c3bbe38683",
   "metadata": {},
   "outputs": [],
   "source": [
    "user = sql_creds[\"sql_creds\"][\"user\"]\n",
    "passw = sql_creds[\"sql_creds\"][\"passw\"]\n",
    "host = sql_creds[\"sql_creds\"][\"host\"]\n",
    "port = 3306\n",
    "database = 'stock_fundamentals'\n",
    "# Create an engine instance\n",
    "engine = create_engine(f'mysql+pymysql://{user}:{passw}@{host}:{port}/{database}')"
   ]
  },
  {
   "cell_type": "code",
   "execution_count": 5,
   "id": "802093c9-3a4b-48d4-8824-02aa951cf952",
   "metadata": {},
   "outputs": [],
   "source": [
    "balancesheet_df = pd.read_sql('SELECT * FROM {}'.format(\"balancesheet\"), con=engine)"
   ]
  },
  {
   "cell_type": "code",
   "execution_count": 6,
   "id": "be67e467-87d0-45aa-b421-4d82ffbef122",
   "metadata": {},
   "outputs": [],
   "source": [
    "cashflow_df = pd.read_sql('SELECT * FROM {}'.format(\"cashflow\"), con=engine)"
   ]
  },
  {
   "cell_type": "code",
   "execution_count": 7,
   "id": "4862c39c-1fa5-4532-905e-7ac12568a925",
   "metadata": {},
   "outputs": [],
   "source": [
    "incomesheet_df = pd.read_sql('SELECT * FROM {}'.format(\"incomesheet\"), con=engine)"
   ]
  },
  {
   "cell_type": "code",
   "execution_count": 8,
   "id": "04e34112-3dfc-42b1-a2a5-730c38172b49",
   "metadata": {},
   "outputs": [],
   "source": [
    "balancesheet_df.index = balancesheet_df[\"Year_Date\"]\n",
    "incomesheet_df.index = incomesheet_df[\"Year_Date\"]\n",
    "cashflow_df.index = cashflow_df[\"Year_Date\"]"
   ]
  },
  {
   "cell_type": "code",
   "execution_count": 9,
   "id": "9031bcd1-a3bc-45fa-bab8-07c6a7694667",
   "metadata": {},
   "outputs": [
    {
     "data": {
      "text/plain": [
       "Index(['CurrentPortofLTDebt_CapitalLeases', 'UnrealizedGain_Loss_',\n",
       "       'RetainedEarnings_AccumulatedDeficit_', 'TotalReceivablesNet',\n",
       "       'TreasuryStock_Common', 'TotalLiabilitiesShareholders'Equity',\n",
       "       'TotalLongTermDebt', 'AccountsPayable', 'OtherAssetsTotal',\n",
       "       'OtherEarningAssetsTotal', 'TotalCommonSharesOutstanding',\n",
       "       'RedeemablePreferredStockTotal', 'OtherEquityTotal', 'CommonStockTotal',\n",
       "       'PrepaidExpenses', 'NoteReceivable_LongTerm',\n",
       "       'OtherCurrentliabilitiesTotal', 'AdditionalPaid_InCapital',\n",
       "       'ESOPDebtGuarantee', 'OtherCurrentAssetsTotal',\n",
       "       'Property_Plant_EquipmentTotal_Gross',\n",
       "       'PreferredStock_NonRedeemableNet', 'CashandShortTermInvestments',\n",
       "       'Annual_Quarter', 'Property_Plant_EquipmentTotal_Net', 'TotalInventory',\n",
       "       'OtherLiabilitiesTotal', 'TotalEquity', 'Cash', 'LongTermInvestments',\n",
       "       'TotalDebt', 'CapitalLeaseObligations', 'GoodwillNet', 'IntangiblesNet',\n",
       "       'TangibleBookValueperShareCommonEq', 'TotalCurrentLiabilities',\n",
       "       'CashEquivalents', 'stockName', 'TotalLiabilities', 'TotalAssets',\n",
       "       'CashDuefromBanks', 'TotalCurrentAssets', 'PolicyLiabilities',\n",
       "       'AccruedExpenses', 'NotesPayable_ShortTermDebt',\n",
       "       'TotalPreferredSharesOutstanding', 'Payable_Accrued',\n",
       "       'InsuranceReceivables', 'AccountsReceivable_TradeNet',\n",
       "       'DeferredIncomeTax', 'TotalDeposits', 'OtherLongTermAssetsTotal',\n",
       "       'AccumulatedDepreciationTotal', 'LongTermDebt', 'TotalUtilityPlantNet',\n",
       "       'ShortTermInvestments', 'MinorityInterest', 'Year_Date', 'NetLoans',\n",
       "       'TotalShortTermBorrowings'],\n",
       "      dtype='object')"
      ]
     },
     "execution_count": 9,
     "metadata": {},
     "output_type": "execute_result"
    }
   ],
   "source": [
    "balancesheet_df.columns"
   ]
  },
  {
   "cell_type": "code",
   "execution_count": 10,
   "id": "8c7c2eb3-c3e9-4cd6-bc10-26e94c36cca3",
   "metadata": {},
   "outputs": [
    {
     "data": {
      "text/plain": [
       "Index(['NetInterestIncome', 'LossesBenefitsandAdjustmentsTotal',\n",
       "       'DilutedWeightedAverageShares', 'OperatingIncome',\n",
       "       'TotalAdjustmentstoNetIncome', 'InterestExp_Inc_Net_OperatingTotal',\n",
       "       'NetInterestIncAfterLoanLossProv', 'Gain_Loss_onSaleofAssets',\n",
       "       'NetIncomeBeforeExtraItems', 'TotalRevenue',\n",
       "       'OtherOperatingExpensesTotal', 'Annual_Quarter', 'NetIncomeAfterTaxes',\n",
       "       'ResearchDevelopment', 'OtherNet', 'IncomeAvailabletoComInclExtraOrd',\n",
       "       'Non_InterestIncomeBank', 'RealizedUnrealizedGains_Losses_',\n",
       "       'Depreciation_Amortization', 'InterestIncomeBank',\n",
       "       'DilutedNormalizedEPS', 'Non_InterestExpenseBank', 'stockName',\n",
       "       'GrossProfit', 'TotalOperatingExpense',\n",
       "       'IncomeAvailabletoComExclExtraOrd', 'EquityInAffiliates',\n",
       "       'NetInvestmentIncome', 'NetIncome', 'DilutedEPSExcludingExtraOrdItems',\n",
       "       'InterestInc_Exp_Net_Non_OpTotal', 'OperationsMaintenance',\n",
       "       'CostofRevenueTotal', 'DilutionAdjustment', 'FuelExpense',\n",
       "       'ProvisionforIncomeTaxes', 'UnusualExpense_Income_',\n",
       "       'TotalPremiumsEarned', 'NetIncomeBeforeTaxes', 'LoanLossProvision',\n",
       "       'TotalExtraordinaryItems', 'Selling_General_AdminExpensesTotal',\n",
       "       'OtherRevenueTotal', 'DilutedNetIncome', 'DPS_CommonStockPrimaryIssue',\n",
       "       'Year_Date', 'MinorityInterest', 'Revenue', 'TotalInterestExpense'],\n",
       "      dtype='object')"
      ]
     },
     "execution_count": 10,
     "metadata": {},
     "output_type": "execute_result"
    }
   ],
   "source": [
    "incomesheet_df.columns"
   ]
  },
  {
   "cell_type": "code",
   "execution_count": null,
   "id": "b113c064-66d2-48ff-9f88-a19d63706c65",
   "metadata": {},
   "outputs": [],
   "source": []
  },
  {
   "cell_type": "code",
   "execution_count": 11,
   "id": "e268cab6-763a-4f51-b4e9-aa6653d30397",
   "metadata": {},
   "outputs": [],
   "source": [
    "piotroski_dict = {}"
   ]
  },
  {
   "cell_type": "markdown",
   "id": "78e49598-7da0-4ba4-9e63-35f271dd2b43",
   "metadata": {},
   "source": [
    "## Calculation"
   ]
  },
  {
   "cell_type": "markdown",
   "id": "36c3ccab-b3b7-4f58-87f2-961490e00eaa",
   "metadata": {},
   "source": [
    "### ROA"
   ]
  },
  {
   "cell_type": "code",
   "execution_count": 12,
   "id": "5fbe77fc-c510-4654-b976-486966fd401a",
   "metadata": {},
   "outputs": [],
   "source": [
    "def roa_calculation(i_df,b_df,c_df):\n",
    "    roa_df = pd.merge(i_df[\"NetIncomeBeforeExtraItems\"], b_df[\"TotalAssets\"], left_index=True, right_index=True)\n",
    "    roa_df.dropna(inplace=True)\n",
    "    roa_df = roa_df.astype(float)\n",
    "    roa_df[\"roa\"] = roa_df[\"NetIncomeBeforeExtraItems\"]/roa_df[\"TotalAssets\"]\n",
    "    roa_df.dropna(inplace = True)\n",
    "    roa_score = [1 if i > 0 else 0 for i in list(roa_df[\"roa\"])]\n",
    "    roa_df[\"roa_score\"] = roa_score\n",
    "    return roa_df[\"roa_score\"],roa_df"
   ]
  },
  {
   "cell_type": "code",
   "execution_count": null,
   "id": "0644672f-20d6-4a49-abd2-e447856a6839",
   "metadata": {},
   "outputs": [],
   "source": []
  },
  {
   "cell_type": "markdown",
   "id": "1fea0116-3136-4ff4-83a7-7238d5d55fbf",
   "metadata": {},
   "source": [
    "### CFO"
   ]
  },
  {
   "cell_type": "code",
   "execution_count": 13,
   "id": "ae1ca723-f15b-4ae8-a82f-2ba6ec663cb7",
   "metadata": {},
   "outputs": [],
   "source": [
    "def cfo_calculation(i_df,b_df,c_df):\n",
    "    cfo_df = pd.merge(b_df[\"TotalAssets\"],c_df['CashfromOperatingActivities'], left_index=True, right_index=True)\n",
    "    cfo_df = cfo_df.astype(float)\n",
    "    cfo_df[\"cfo\"] = cfo_df[\"CashfromOperatingActivities\"] / cfo_df[\"TotalAssets\"]\n",
    "    cfo_df.dropna(inplace = True)\n",
    "    cfo_score = [1 if i > 0 else 0 for i in list(cfo_df[\"cfo\"])]\n",
    "    cfo_df[\"cfo_score\"] = cfo_score\n",
    "    return cfo_df[\"cfo_score\"],cfo_df"
   ]
  },
  {
   "cell_type": "code",
   "execution_count": null,
   "id": "9d14795a-74d8-4b8d-88a7-ebcecedc7abb",
   "metadata": {},
   "outputs": [],
   "source": []
  },
  {
   "cell_type": "markdown",
   "id": "08a00ddd-88ef-45d2-aff1-b0dfdb0159d8",
   "metadata": {},
   "source": [
    "### Delta function"
   ]
  },
  {
   "cell_type": "code",
   "execution_count": 14,
   "id": "eda81740-d46a-4468-8acf-69f97d75421e",
   "metadata": {},
   "outputs": [],
   "source": [
    "def delta_calculation(df,name):\n",
    "    yearList = []\n",
    "    quarterList = []\n",
    "    for date in df.index:\n",
    "        if len(date) == 4:\n",
    "            yearList.append(date)\n",
    "        else:\n",
    "            quarterList.append(date)\n",
    "    delta = []\n",
    "    for idx in range(0,len(yearList)-1):\n",
    "        delta.append(df.loc[yearList[idx]][name] - df.loc[yearList[idx+1]][name])\n",
    "    delta.append(df.loc[yearList[-1]][name] - 0)\n",
    "    for idx in range(0,len(quarterList)-1):\n",
    "        delta.append(df.loc[quarterList[idx]][name] - df.loc[quarterList[idx+1]][name])\n",
    "    # yearList = list(map(int, yearList))\n",
    "    delta.append(df.loc[quarterList[-1]][name] - 0)\n",
    "    yearList.extend(quarterList)\n",
    "    return yearList,delta"
   ]
  },
  {
   "cell_type": "markdown",
   "id": "deab966d-4ff8-4046-a07d-4ebdb856bd89",
   "metadata": {},
   "source": [
    "### Delta ROA"
   ]
  },
  {
   "cell_type": "code",
   "execution_count": 15,
   "id": "e7668f7d-1806-4293-a407-b7f954d738d1",
   "metadata": {},
   "outputs": [],
   "source": [
    "def delta_roa_calculation(roa_df):\n",
    "    delta_roa_df = pd.DataFrame()\n",
    "    yearList,delta_roa = delta_calculation(roa_df,\"roa\")\n",
    "    delta_roa_df.index = yearList\n",
    "    delta_roa_df[\"delta_roa\"] = delta_roa\n",
    "    \n",
    "    delta_roa_score = [1 if i > 0 else 0 for i in list(delta_roa_df[\"delta_roa\"])]\n",
    "    delta_roa_df[\"delta_roa_score\"] = delta_roa_score\n",
    "    return delta_roa_df[\"delta_roa_score\"]"
   ]
  },
  {
   "cell_type": "code",
   "execution_count": null,
   "id": "ff599c3c-8cde-4730-a3c5-a3d118b7d023",
   "metadata": {},
   "outputs": [],
   "source": []
  },
  {
   "cell_type": "markdown",
   "id": "b555bd85-2450-43ce-9643-293fd8834c38",
   "metadata": {},
   "source": [
    "### Accrual"
   ]
  },
  {
   "cell_type": "code",
   "execution_count": null,
   "id": "8d3468cc-61ca-496d-a6d6-d5addb06ad2f",
   "metadata": {},
   "outputs": [],
   "source": []
  },
  {
   "cell_type": "code",
   "execution_count": 16,
   "id": "081e903e-0527-4f56-b5f4-118c0a7e32bc",
   "metadata": {},
   "outputs": [],
   "source": [
    "def accrual_calculation(roa_df,cfo_df):\n",
    "    accrual_df = pd.DataFrame()\n",
    "    accrual_df[\"roa\"] = roa_df[\"roa\"]\n",
    "    accrual_df[\"cfo\"] = cfo_df.dropna()[\"cfo\"]\n",
    "    accrual_df[\"accrual\"] = roa_df[\"roa\"] - cfo_df.dropna()[\"cfo\"]\n",
    "    accrual_df.dropna(inplace = True)\n",
    "    accrual_score = [0 if i > 0 else 1 for i in list(accrual_df[\"accrual\"])]\n",
    "    accrual_df[\"accrual_score\"] = accrual_score\n",
    "    return accrual_df[\"accrual_score\"]"
   ]
  },
  {
   "cell_type": "code",
   "execution_count": null,
   "id": "8c134241-d4cc-40d9-9174-77022ebfd203",
   "metadata": {},
   "outputs": [],
   "source": []
  },
  {
   "cell_type": "markdown",
   "id": "04dfbb6e-44e1-4d10-8dd8-a5a041dd4503",
   "metadata": {},
   "source": [
    "### Delta Leverage"
   ]
  },
  {
   "cell_type": "code",
   "execution_count": 17,
   "id": "a1af57b8-adc8-4ace-b13b-74c771816e48",
   "metadata": {},
   "outputs": [],
   "source": [
    "def delta_leverage_calculation(i_df,b_df,c_df):\n",
    "    lev_df = pd.merge(b_df[\"TotalAssets\"],b_df['TotalLongTermDebt'], left_index=True, right_index=True)\n",
    "    lev_df = lev_df.astype(float)\n",
    "    lev_df[\"lev\"] = lev_df[\"TotalLongTermDebt\"] / lev_df[\"TotalAssets\"]\n",
    "    lev_df.dropna(inplace = True)\n",
    "    \n",
    "    delta_lev_df = pd.DataFrame()\n",
    "    yearList,delta_lev = delta_calculation(lev_df,\"lev\")\n",
    "    delta_lev_df.index = yearList\n",
    "    delta_lev_df[\"delta_lev\"] = delta_lev\n",
    "    \n",
    "    delta_lev_score = [0 if i > 0 else 1 for i in list(delta_lev_df[\"delta_lev\"])]\n",
    "    delta_lev_df[\"delta_lev_score\"] = delta_lev_score\n",
    "    return delta_lev_df[\"delta_lev_score\"]"
   ]
  },
  {
   "cell_type": "markdown",
   "id": "2186a141-271c-427d-a4cf-322ef3a980a6",
   "metadata": {},
   "source": [
    "### Delta Liquid"
   ]
  },
  {
   "cell_type": "code",
   "execution_count": 18,
   "id": "85b562d9-9e1f-433c-a5be-d8df2ed2e1c2",
   "metadata": {},
   "outputs": [],
   "source": [
    "def delta_liquid_calculation(i_df,b_df,c_df):\n",
    "    liquid_df = pd.merge(b_df[\"TotalCurrentLiabilities\"],b_df[\"TotalCurrentAssets\"],left_index=True,right_index=True)\n",
    "    liquid_df = liquid_df.astype(float)\n",
    "    liquid_df[\"liquid\"] = liquid_df[\"TotalCurrentAssets\"] / liquid_df[\"TotalCurrentLiabilities\"]\n",
    "    \n",
    "    liquid_df.dropna(inplace = True)\n",
    "    \n",
    "    delta_liquid_df = pd.DataFrame()\n",
    "    if len(liquid_df) == 0:\n",
    "        liquid_df = pd.merge(b_df[\"TotalLiabilities\"],b_df[\"TotalAssets\"],left_index=True,right_index=True)\n",
    "        liquid_df = liquid_df.astype(float)\n",
    "        liquid_df[\"liquid\"] = liquid_df[\"TotalAssets\"] / liquid_df[\"TotalLiabilities\"]\n",
    "    liquid_df.dropna(inplace = True)\n",
    "    if len(liquid_df) == 0:\n",
    "        return 0\n",
    "    yearList,delta_liquid = delta_calculation(liquid_df,\"liquid\")\n",
    "    delta_liquid_df.index = yearList\n",
    "    delta_liquid_df[\"delta_liquid\"] = delta_liquid\n",
    "    \n",
    "    delta_liquid_score = [1 if i > 0 else 0 for i in list(delta_liquid_df[\"delta_liquid\"])]\n",
    "    delta_liquid_df[\"delta_liquid_score\"] = delta_liquid_score\n",
    "    return delta_liquid_df[\"delta_liquid_score\"]"
   ]
  },
  {
   "cell_type": "code",
   "execution_count": null,
   "id": "bdf0f1ab-58dc-442f-b746-5f13880e7235",
   "metadata": {},
   "outputs": [],
   "source": []
  },
  {
   "cell_type": "markdown",
   "id": "d770f2ba-aa3e-4a1e-9c46-393f657b8dee",
   "metadata": {},
   "source": [
    "### EQ offer"
   ]
  },
  {
   "cell_type": "code",
   "execution_count": 19,
   "id": "41acb7b6-15d5-4f17-bb0b-8868df1754e5",
   "metadata": {},
   "outputs": [],
   "source": [
    "def eq_offer_calculation(i_df,b_df,c_df):\n",
    "    eq_df = pd.DataFrame()\n",
    "    eq_df[\"eq\"] = b_df[\"TotalCommonSharesOutstanding\"]\n",
    "    eq_df = eq_df.astype(float)\n",
    "    \n",
    "    \n",
    "    eq_df.dropna(inplace = True)\n",
    "    \n",
    "    delta_eq_df = pd.DataFrame()\n",
    "    yearList,delta_eq = delta_calculation(eq_df,\"eq\")\n",
    "    delta_eq_df.index = yearList\n",
    "    delta_eq_df[\"delta_eq\"] = delta_eq\n",
    "    \n",
    "    delta_eq_score = [0 if i > 0 else 1 for i in list(delta_eq_df[\"delta_eq\"])]\n",
    "    delta_eq_df[\"delta_eq_score\"] = delta_eq_score\n",
    "    return delta_eq_df[\"delta_eq_score\"]"
   ]
  },
  {
   "cell_type": "code",
   "execution_count": null,
   "id": "e055f544-d71c-4a3f-bbef-4a15b194236c",
   "metadata": {},
   "outputs": [],
   "source": []
  },
  {
   "cell_type": "markdown",
   "id": "3eaf0919-9d3f-489b-8d20-ea90ad70ec97",
   "metadata": {},
   "source": [
    "### Delta Margin"
   ]
  },
  {
   "cell_type": "code",
   "execution_count": 20,
   "id": "d6e18c39-d841-4a16-b10e-c10b85b38134",
   "metadata": {},
   "outputs": [],
   "source": [
    "def delta_margin_calculation(i_df,b_df,c_df):\n",
    "    margin_df = pd.merge(i_df[\"GrossProfit\"],i_df[\"TotalRevenue\"],left_index=True,right_index=True)\n",
    "    margin_df = margin_df.astype(float)\n",
    "    margin_df[\"margin\"] = (margin_df[\"GrossProfit\"]/margin_df[\"TotalRevenue\"]) * 100\n",
    "    margin_df.dropna(inplace = True)\n",
    "    \n",
    "    delta_margin_df = pd.DataFrame()\n",
    "    if len(margin_df) == 0:\n",
    "        margin_df = pd.merge(i_df[\"InterestIncomeBank\"],i_df[\"Non_InterestIncomeBank\"],left_index=True,right_index=True)\n",
    "        margin_df = pd.merge(margin_df,i_df[\"NetInterestIncome\"],left_index=True,right_index=True)\n",
    "        margin_df = margin_df.astype(float)\n",
    "        margin_df[\"margin\"] = margin_df[\"NetInterestIncome\"] / (margin_df[\"Non_InterestIncomeBank\"] + margin_df[\"InterestIncomeBank\"])\n",
    "    margin_df.dropna(inplace = True)\n",
    "    if len(margin_df) == 0:\n",
    "        return 0\n",
    "    yearList,delta_margin = delta_calculation(margin_df,\"margin\")\n",
    "    delta_margin_df.index = yearList\n",
    "    delta_margin_df[\"delta_margin\"] = delta_margin\n",
    "    \n",
    "    delta_margin_score = [1 if i > 0 else 0 for i in list(delta_margin_df[\"delta_margin\"])]\n",
    "    delta_margin_df[\"delta_margin_score\"] = delta_margin_score\n",
    "    return delta_margin_df[\"delta_margin_score\"]"
   ]
  },
  {
   "cell_type": "markdown",
   "id": "1960105a-3496-42ba-a2e8-b82082d1be93",
   "metadata": {},
   "source": [
    "### Delta Turnover"
   ]
  },
  {
   "cell_type": "code",
   "execution_count": 21,
   "id": "adc7e5a9-0401-4fae-86dd-0cda1cab7353",
   "metadata": {},
   "outputs": [],
   "source": [
    "def delta_turnover_calculation(i_df,b_df,c_df):\n",
    "    turnover_df = pd.merge(b_df[\"TotalAssets\"],i_df[\"TotalRevenue\"],left_index=True,right_index=True)\n",
    "    turnover_df = turnover_df.astype(float)\n",
    "    turnover_df[\"turnover\"] = turnover_df[\"TotalRevenue\"] / turnover_df[\"TotalAssets\"]\n",
    "    \n",
    "    turnover_df.dropna(inplace = True)\n",
    "    \n",
    "    delta_turnover_df = pd.DataFrame()\n",
    "    if len(turnover_df) == 0:\n",
    "        turnover_df = pd.merge(b_df[\"TotalAssets\"],i_df[\"Non_InterestIncomeBank\"],left_index=True,right_index=True)\n",
    "        turnover_df = pd.merge(turnover_df,i_df[\"InterestIncomeBank\"],left_index=True,right_index=True)\n",
    "        turnover_df = turnover_df.astype(float)\n",
    "        turnover_df[\"turnover\"] = (turnover_df[\"Non_InterestIncomeBank\"] + turnover_df[\"InterestIncomeBank\"]) / turnover_df[\"TotalAssets\"]\n",
    "    turnover_df.dropna(inplace = True)\n",
    "    if len(turnover_df) == 0:\n",
    "        return 0\n",
    "    yearList,delta_turnover = delta_calculation(turnover_df,\"turnover\")\n",
    "    delta_turnover_df.index = yearList\n",
    "    delta_turnover_df[\"delta_turnover\"] = delta_turnover\n",
    "    \n",
    "    delta_turnover_score = [1 if i > 0 else 0 for i in list(delta_turnover_df[\"delta_turnover\"])]\n",
    "    delta_turnover_df[\"delta_turnover_score\"] = delta_turnover_score\n",
    "    return delta_turnover_df[\"delta_turnover_score\"]"
   ]
  },
  {
   "cell_type": "code",
   "execution_count": null,
   "id": "ccc49741-bf6a-4f67-af45-7cec36d78b8e",
   "metadata": {},
   "outputs": [],
   "source": []
  },
  {
   "cell_type": "markdown",
   "id": "d6f3bc97-3214-423f-9805-322662101eb8",
   "metadata": {},
   "source": [
    "## Store Data"
   ]
  },
  {
   "cell_type": "code",
   "execution_count": 22,
   "id": "71d53d20-3bf5-4db0-84f4-5cf343f612d7",
   "metadata": {
    "scrolled": true
   },
   "outputs": [
    {
     "name": "stdout",
     "output_type": "stream",
     "text": [
      "Progress: 591/1779"
     ]
    },
    {
     "name": "stderr",
     "output_type": "stream",
     "text": [
      "C:\\Users\\Akshay\\AppData\\Local\\Temp\\ipykernel_22900\\2678638393.py:11: RuntimeWarning: invalid value encountered in scalar subtract\n",
      "  delta.append(df.loc[yearList[idx]][name] - df.loc[yearList[idx+1]][name])\n"
     ]
    },
    {
     "name": "stdout",
     "output_type": "stream",
     "text": [
      "Progress: 1034/1779"
     ]
    },
    {
     "name": "stderr",
     "output_type": "stream",
     "text": [
      "C:\\Users\\Akshay\\AppData\\Local\\Temp\\ipykernel_22900\\2678638393.py:11: RuntimeWarning: invalid value encountered in scalar subtract\n",
      "  delta.append(df.loc[yearList[idx]][name] - df.loc[yearList[idx+1]][name])\n"
     ]
    },
    {
     "name": "stdout",
     "output_type": "stream",
     "text": [
      "Progress: 1209/1779"
     ]
    },
    {
     "name": "stderr",
     "output_type": "stream",
     "text": [
      "C:\\Users\\Akshay\\AppData\\Local\\Temp\\ipykernel_22900\\2678638393.py:11: RuntimeWarning: invalid value encountered in scalar subtract\n",
      "  delta.append(df.loc[yearList[idx]][name] - df.loc[yearList[idx+1]][name])\n",
      "C:\\Users\\Akshay\\AppData\\Local\\Temp\\ipykernel_22900\\2678638393.py:14: RuntimeWarning: invalid value encountered in scalar subtract\n",
      "  delta.append(df.loc[quarterList[idx]][name] - df.loc[quarterList[idx+1]][name])\n"
     ]
    },
    {
     "name": "stdout",
     "output_type": "stream",
     "text": [
      "Progress: 1325/1779"
     ]
    },
    {
     "name": "stderr",
     "output_type": "stream",
     "text": [
      "C:\\Users\\Akshay\\AppData\\Local\\Temp\\ipykernel_22900\\2678638393.py:14: RuntimeWarning: invalid value encountered in scalar subtract\n",
      "  delta.append(df.loc[quarterList[idx]][name] - df.loc[quarterList[idx+1]][name])\n"
     ]
    },
    {
     "name": "stdout",
     "output_type": "stream",
     "text": [
      "Progress: 1378/1779"
     ]
    },
    {
     "name": "stderr",
     "output_type": "stream",
     "text": [
      "C:\\Users\\Akshay\\AppData\\Local\\Temp\\ipykernel_22900\\2678638393.py:14: RuntimeWarning: invalid value encountered in scalar subtract\n",
      "  delta.append(df.loc[quarterList[idx]][name] - df.loc[quarterList[idx+1]][name])\n",
      "C:\\Users\\Akshay\\AppData\\Local\\Temp\\ipykernel_22900\\2678638393.py:14: RuntimeWarning: invalid value encountered in scalar subtract\n",
      "  delta.append(df.loc[quarterList[idx]][name] - df.loc[quarterList[idx+1]][name])\n"
     ]
    },
    {
     "name": "stdout",
     "output_type": "stream",
     "text": [
      "Progress: 1442/1779"
     ]
    },
    {
     "name": "stderr",
     "output_type": "stream",
     "text": [
      "C:\\Users\\Akshay\\AppData\\Local\\Temp\\ipykernel_22900\\2678638393.py:14: RuntimeWarning: invalid value encountered in scalar subtract\n",
      "  delta.append(df.loc[quarterList[idx]][name] - df.loc[quarterList[idx+1]][name])\n"
     ]
    },
    {
     "name": "stdout",
     "output_type": "stream",
     "text": [
      "Progress: 1470/1779"
     ]
    },
    {
     "name": "stderr",
     "output_type": "stream",
     "text": [
      "C:\\Users\\Akshay\\AppData\\Local\\Temp\\ipykernel_22900\\2678638393.py:14: RuntimeWarning: invalid value encountered in scalar subtract\n",
      "  delta.append(df.loc[quarterList[idx]][name] - df.loc[quarterList[idx+1]][name])\n"
     ]
    },
    {
     "name": "stdout",
     "output_type": "stream",
     "text": [
      "Progress: 1502/1779"
     ]
    },
    {
     "name": "stderr",
     "output_type": "stream",
     "text": [
      "C:\\Users\\Akshay\\AppData\\Local\\Temp\\ipykernel_22900\\2678638393.py:14: RuntimeWarning: invalid value encountered in scalar subtract\n",
      "  delta.append(df.loc[quarterList[idx]][name] - df.loc[quarterList[idx+1]][name])\n",
      "C:\\Users\\Akshay\\AppData\\Local\\Temp\\ipykernel_22900\\2678638393.py:14: RuntimeWarning: invalid value encountered in scalar subtract\n",
      "  delta.append(df.loc[quarterList[idx]][name] - df.loc[quarterList[idx+1]][name])\n"
     ]
    },
    {
     "name": "stdout",
     "output_type": "stream",
     "text": [
      "Progress: 1532/1779"
     ]
    },
    {
     "name": "stderr",
     "output_type": "stream",
     "text": [
      "C:\\Users\\Akshay\\AppData\\Local\\Temp\\ipykernel_22900\\2678638393.py:11: RuntimeWarning: invalid value encountered in scalar subtract\n",
      "  delta.append(df.loc[yearList[idx]][name] - df.loc[yearList[idx+1]][name])\n",
      "C:\\Users\\Akshay\\AppData\\Local\\Temp\\ipykernel_22900\\2678638393.py:14: RuntimeWarning: invalid value encountered in scalar subtract\n",
      "  delta.append(df.loc[quarterList[idx]][name] - df.loc[quarterList[idx+1]][name])\n"
     ]
    },
    {
     "name": "stdout",
     "output_type": "stream",
     "text": [
      "Progress: 1580/1779"
     ]
    },
    {
     "name": "stderr",
     "output_type": "stream",
     "text": [
      "C:\\Users\\Akshay\\AppData\\Local\\Temp\\ipykernel_22900\\2678638393.py:14: RuntimeWarning: invalid value encountered in scalar subtract\n",
      "  delta.append(df.loc[quarterList[idx]][name] - df.loc[quarterList[idx+1]][name])\n",
      "C:\\Users\\Akshay\\AppData\\Local\\Temp\\ipykernel_22900\\2678638393.py:14: RuntimeWarning: invalid value encountered in scalar subtract\n",
      "  delta.append(df.loc[quarterList[idx]][name] - df.loc[quarterList[idx+1]][name])\n"
     ]
    },
    {
     "name": "stdout",
     "output_type": "stream",
     "text": [
      "Progress: 1704/1779"
     ]
    },
    {
     "name": "stderr",
     "output_type": "stream",
     "text": [
      "C:\\Users\\Akshay\\AppData\\Local\\Temp\\ipykernel_22900\\2678638393.py:14: RuntimeWarning: invalid value encountered in scalar subtract\n",
      "  delta.append(df.loc[quarterList[idx]][name] - df.loc[quarterList[idx+1]][name])\n"
     ]
    },
    {
     "name": "stdout",
     "output_type": "stream",
     "text": [
      "Progress: 1778/1779"
     ]
    }
   ],
   "source": [
    "merge_error = []\n",
    "calc_error = []\n",
    "stockName = list(incomesheet_df[\"stockName\"].unique())\n",
    "final_df = pd.DataFrame()\n",
    "for idx,stock in enumerate(stockName):\n",
    "    print(f'\\rProgress: {idx}/{len(stockName)}', end='', flush=True)\n",
    "    df = pd.DataFrame()\n",
    "    i_df = incomesheet_df[incomesheet_df[\"stockName\"] == stock]\n",
    "    b_df = balancesheet_df[balancesheet_df[\"stockName\"] == stock]\n",
    "    c_df = cashflow_df[cashflow_df[\"stockName\"] == stock]\n",
    "    try:\n",
    "        roa,roa_df = roa_calculation(i_df,b_df,c_df)\n",
    "        cfo,cfo_df = cfo_calculation(i_df,b_df,c_df)\n",
    "        delta_roa = delta_roa_calculation(roa_df)\n",
    "        accrual = accrual_calculation(roa_df,cfo_df)\n",
    "        delta_leverage = delta_leverage_calculation(i_df,b_df,c_df)\n",
    "        delta_liquid = delta_liquid_calculation(i_df,b_df,c_df)\n",
    "        eq_offer = eq_offer_calculation(i_df,b_df,c_df)\n",
    "        delta_margin = delta_margin_calculation(i_df,b_df,c_df)\n",
    "        delta_turnover = delta_turnover_calculation(i_df,b_df,c_df)\n",
    "        # print(roa,cfo,delta_roa,accrual,delta_leverage,delta_liquid,eq_offer,delta_margin,delta_turnover)\n",
    "    except Exception as e:\n",
    "        # print(\"error calculation : {}\".format(stock))\n",
    "        calc_error.append(stock)\n",
    "        continue\n",
    "    metricsList = [roa,cfo,delta_roa,accrual,delta_leverage,delta_liquid,eq_offer,delta_margin,delta_turnover]\n",
    "    try:\n",
    "        df = metricsList[0]\n",
    "        for i in range(1,len(metricsList)):\n",
    "            df = pd.merge(metricsList[i],df,left_index=True,right_index=True)\n",
    "    except Exception as e:\n",
    "        # print(\"error merge : {}\".format(stock))\n",
    "        merge_error.append(stock)\n",
    "        continue\n",
    "    df[\"final_score\"] = df.sum(axis = 1)\n",
    "    df[\"stock\"] = stock\n",
    "    df[\"date/year\"] = df.index\n",
    "    final_df = pd.concat([final_df,df],ignore_index=True,axis = 0)\n"
   ]
  },
  {
   "cell_type": "code",
   "execution_count": 23,
   "id": "a8efa88d-b59f-4606-b78f-b72fa9d4b6f5",
   "metadata": {},
   "outputs": [
    {
     "data": {
      "text/plain": [
       "15314"
      ]
     },
     "execution_count": 23,
     "metadata": {},
     "output_type": "execute_result"
    }
   ],
   "source": [
    "final_df.to_sql(\"piotroskiscore\", con=engine, if_exists='replace', index=False)"
   ]
  },
  {
   "cell_type": "code",
   "execution_count": 24,
   "id": "c93ddfc8-3746-490b-a787-424732ea98e5",
   "metadata": {},
   "outputs": [],
   "source": [
    "final_df[\"id\"] = final_df.index"
   ]
  },
  {
   "cell_type": "code",
   "execution_count": 25,
   "id": "830d8661-425a-4b36-a4a0-7f73545a38db",
   "metadata": {},
   "outputs": [],
   "source": [
    "from datetime import date\n",
    " \n",
    "# Returns the current local date\n",
    "today = date.today()\n",
    "final_df.to_csv(\"./Piotroski Score Reports/piotroski_score_{}.csv\".format(today))"
   ]
  },
  {
   "cell_type": "code",
   "execution_count": null,
   "id": "ba8a9cb6-e433-472c-b805-b15921261a0c",
   "metadata": {},
   "outputs": [],
   "source": []
  }
 ],
 "metadata": {
  "kernelspec": {
   "display_name": "Python 3 (ipykernel)",
   "language": "python",
   "name": "python3"
  },
  "language_info": {
   "codemirror_mode": {
    "name": "ipython",
    "version": 3
   },
   "file_extension": ".py",
   "mimetype": "text/x-python",
   "name": "python",
   "nbconvert_exporter": "python",
   "pygments_lexer": "ipython3",
   "version": "3.9.19"
  }
 },
 "nbformat": 4,
 "nbformat_minor": 5
}
