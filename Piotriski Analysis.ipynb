{
 "cells": [
  {
   "cell_type": "code",
   "execution_count": 1,
   "id": "592e2aed-b1f6-4148-8ee7-2acdb11ef411",
   "metadata": {},
   "outputs": [],
   "source": [
    "from sqlalchemy import create_engine\n",
    "import pandas as pd\n",
    "import numpy as np\n",
    "import seaborn as sns\n",
    "import matplotlib.pyplot as plt"
   ]
  },
  {
   "cell_type": "markdown",
   "id": "8a9f3b0a-fba7-427e-8e3d-f09880438599",
   "metadata": {},
   "source": [
    "### Fetching Data"
   ]
  },
  {
   "cell_type": "code",
   "execution_count": 2,
   "id": "eb0205fb-d82b-43d3-8d31-02c3bbe38683",
   "metadata": {},
   "outputs": [],
   "source": [
    "user = 'akshayparate'\n",
    "passw = 'akshayparate'\n",
    "host =  '182.48.201.235'\n",
    "port = 3306\n",
    "database = 'stock_fundamentals'\n",
    "# Create an engine instance\n",
    "engine = create_engine(f'mysql+pymysql://{user}:{passw}@{host}:{port}/{database}')"
   ]
  },
  {
   "cell_type": "code",
   "execution_count": 3,
   "id": "802093c9-3a4b-48d4-8824-02aa951cf952",
   "metadata": {},
   "outputs": [],
   "source": [
    "balancesheet_df = pd.read_sql('SELECT * FROM {}'.format(\"balancesheet\"), con=engine)"
   ]
  },
  {
   "cell_type": "code",
   "execution_count": 4,
   "id": "be67e467-87d0-45aa-b421-4d82ffbef122",
   "metadata": {},
   "outputs": [],
   "source": [
    "cashflow_df = pd.read_sql('SELECT * FROM {}'.format(\"cashflow\"), con=engine)\n"
   ]
  },
  {
   "cell_type": "code",
   "execution_count": 5,
   "id": "4862c39c-1fa5-4532-905e-7ac12568a925",
   "metadata": {},
   "outputs": [],
   "source": [
    "incomesheet_df = pd.read_sql('SELECT * FROM {}'.format(\"incomesheet\"), con=engine)"
   ]
  },
  {
   "cell_type": "code",
   "execution_count": 6,
   "id": "04e34112-3dfc-42b1-a2a5-730c38172b49",
   "metadata": {},
   "outputs": [],
   "source": [
    "balancesheet_df.index = balancesheet_df[\"Year_Date\"]\n",
    "incomesheet_df.index = incomesheet_df[\"Year_Date\"]\n",
    "cashflow_df.index = cashflow_df[\"Year_Date\"]"
   ]
  },
  {
   "cell_type": "code",
   "execution_count": 7,
   "id": "9031bcd1-a3bc-45fa-bab8-07c6a7694667",
   "metadata": {},
   "outputs": [
    {
     "data": {
      "text/plain": [
       "Index(['OtherEquityTotal', 'PreferredStock_NonRedeemableNet', 'NetLoans',\n",
       "       'AccumulatedDepreciationTotal', 'Cash', 'TotalCommonSharesOutstanding',\n",
       "       'NotesPayable_ShortTermDebt', 'Property_Plant_EquipmentTotal_Gross',\n",
       "       'AccountsReceivable_TradeNet', 'OtherCurrentAssetsTotal',\n",
       "       'OtherLiabilitiesTotal', 'TotalReceivablesNet',\n",
       "       'TotalCurrentLiabilities', 'AdditionalPaid_InCapital',\n",
       "       'RedeemablePreferredStockTotal', 'AccountsPayable',\n",
       "       'CashandShortTermInvestments', 'TotalDeposits',\n",
       "       'Property_Plant_EquipmentTotal_Net', 'LongTermInvestments',\n",
       "       'IntangiblesNet', 'ESOPDebtGuarantee', 'NoteReceivable_LongTerm',\n",
       "       'PrepaidExpenses', 'Payable_Accrued', 'Annual_Quarter', 'GoodwillNet',\n",
       "       'TotalLiabilitiesShareholders'Equity', 'TotalLiabilities',\n",
       "       'PolicyLiabilities', 'CommonStockTotal', 'TotalUtilityPlantNet',\n",
       "       'CurrentPortofLTDebt_CapitalLeases', 'ShortTermInvestments',\n",
       "       'OtherCurrentliabilitiesTotal', 'TotalLongTermDebt', 'stockName',\n",
       "       'TotalPreferredSharesOutstanding', 'Year_Date', 'TotalAssets',\n",
       "       'OtherEarningAssetsTotal', 'InsuranceReceivables', 'TotalInventory',\n",
       "       'TreasuryStock_Common', 'OtherLongTermAssetsTotal', 'LongTermDebt',\n",
       "       'DeferredIncomeTax', 'TotalCurrentAssets', 'TotalEquity',\n",
       "       'RetainedEarnings_AccumulatedDeficit_', 'TotalDebt', 'CashDuefromBanks',\n",
       "       'MinorityInterest', 'UnrealizedGain_Loss_', 'TotalShortTermBorrowings',\n",
       "       'AccruedExpenses', 'TangibleBookValueperShareCommonEq',\n",
       "       'OtherAssetsTotal', 'CashEquivalents', 'CapitalLeaseObligations'],\n",
       "      dtype='object')"
      ]
     },
     "execution_count": 7,
     "metadata": {},
     "output_type": "execute_result"
    }
   ],
   "source": [
    "balancesheet_df.columns"
   ]
  },
  {
   "cell_type": "code",
   "execution_count": 8,
   "id": "b113c064-66d2-48ff-9f88-a19d63706c65",
   "metadata": {},
   "outputs": [],
   "source": [
    "i_df = incomesheet_df[incomesheet_df[\"stockName\"] == \"State Bank Of India\"]\n",
    "b_df = balancesheet_df[balancesheet_df[\"stockName\"] == \"State Bank Of India\"]\n",
    "c_df = cashflow_df[cashflow_df[\"stockName\"] == \"State Bank Of India\"]"
   ]
  },
  {
   "cell_type": "code",
   "execution_count": 9,
   "id": "e268cab6-763a-4f51-b4e9-aa6653d30397",
   "metadata": {},
   "outputs": [],
   "source": [
    "piotroski_dict = {}"
   ]
  },
  {
   "cell_type": "markdown",
   "id": "36c3ccab-b3b7-4f58-87f2-961490e00eaa",
   "metadata": {},
   "source": [
    "### ROA"
   ]
  },
  {
   "cell_type": "code",
   "execution_count": 10,
   "id": "5fbe77fc-c510-4654-b976-486966fd401a",
   "metadata": {},
   "outputs": [],
   "source": [
    "roa_df = pd.merge(i_df[\"NetIncomeBeforeExtraItems\"], b_df[\"TotalAssets\"], left_index=True, right_index=True)\n",
    "roa_df.dropna(inplace=True)\n",
    "roa_df = roa_df.astype(float)\n",
    "roa_df[\"roa\"] = roa_df[\"NetIncomeBeforeExtraItems\"]/roa_df[\"TotalAssets\"]"
   ]
  },
  {
   "cell_type": "code",
   "execution_count": 11,
   "id": "0644672f-20d6-4a49-abd2-e447856a6839",
   "metadata": {},
   "outputs": [
    {
     "data": {
      "text/html": [
       "<div>\n",
       "<style scoped>\n",
       "    .dataframe tbody tr th:only-of-type {\n",
       "        vertical-align: middle;\n",
       "    }\n",
       "\n",
       "    .dataframe tbody tr th {\n",
       "        vertical-align: top;\n",
       "    }\n",
       "\n",
       "    .dataframe thead th {\n",
       "        text-align: right;\n",
       "    }\n",
       "</style>\n",
       "<table border=\"1\" class=\"dataframe\">\n",
       "  <thead>\n",
       "    <tr style=\"text-align: right;\">\n",
       "      <th></th>\n",
       "      <th>NetIncomeBeforeExtraItems</th>\n",
       "      <th>TotalAssets</th>\n",
       "      <th>roa</th>\n",
       "    </tr>\n",
       "    <tr>\n",
       "      <th>Year_Date</th>\n",
       "      <th></th>\n",
       "      <th></th>\n",
       "      <th></th>\n",
       "    </tr>\n",
       "  </thead>\n",
       "  <tbody>\n",
       "    <tr>\n",
       "      <th>2024</th>\n",
       "      <td>67084.6700</td>\n",
       "      <td>6.733779e+06</td>\n",
       "      <td>0.009962</td>\n",
       "    </tr>\n",
       "    <tr>\n",
       "      <th>2023</th>\n",
       "      <td>55648.1728</td>\n",
       "      <td>5.954418e+06</td>\n",
       "      <td>0.009346</td>\n",
       "    </tr>\n",
       "    <tr>\n",
       "      <th>2022</th>\n",
       "      <td>35373.8798</td>\n",
       "      <td>5.360884e+06</td>\n",
       "      <td>0.006599</td>\n",
       "    </tr>\n",
       "    <tr>\n",
       "      <th>2021</th>\n",
       "      <td>22405.4576</td>\n",
       "      <td>4.845619e+06</td>\n",
       "      <td>0.004624</td>\n",
       "    </tr>\n",
       "    <tr>\n",
       "      <th>2020</th>\n",
       "      <td>22934.1722</td>\n",
       "      <td>4.197492e+06</td>\n",
       "      <td>0.005464</td>\n",
       "    </tr>\n",
       "    <tr>\n",
       "      <th>2019</th>\n",
       "      <td>2299.6391</td>\n",
       "      <td>3.888464e+06</td>\n",
       "      <td>0.000591</td>\n",
       "    </tr>\n",
       "    <tr>\n",
       "      <th>2024-03-31</th>\n",
       "      <td>21384.1500</td>\n",
       "      <td>6.733779e+06</td>\n",
       "      <td>0.003176</td>\n",
       "    </tr>\n",
       "    <tr>\n",
       "      <th>2023-09-30</th>\n",
       "      <td>16099.5800</td>\n",
       "      <td>6.317053e+06</td>\n",
       "      <td>0.002549</td>\n",
       "    </tr>\n",
       "    <tr>\n",
       "      <th>2023-03-31</th>\n",
       "      <td>18093.8428</td>\n",
       "      <td>5.954418e+06</td>\n",
       "      <td>0.003039</td>\n",
       "    </tr>\n",
       "  </tbody>\n",
       "</table>\n",
       "</div>"
      ],
      "text/plain": [
       "            NetIncomeBeforeExtraItems   TotalAssets       roa\n",
       "Year_Date                                                    \n",
       "2024                       67084.6700  6.733779e+06  0.009962\n",
       "2023                       55648.1728  5.954418e+06  0.009346\n",
       "2022                       35373.8798  5.360884e+06  0.006599\n",
       "2021                       22405.4576  4.845619e+06  0.004624\n",
       "2020                       22934.1722  4.197492e+06  0.005464\n",
       "2019                        2299.6391  3.888464e+06  0.000591\n",
       "2024-03-31                 21384.1500  6.733779e+06  0.003176\n",
       "2023-09-30                 16099.5800  6.317053e+06  0.002549\n",
       "2023-03-31                 18093.8428  5.954418e+06  0.003039"
      ]
     },
     "execution_count": 11,
     "metadata": {},
     "output_type": "execute_result"
    }
   ],
   "source": [
    "roa_df"
   ]
  },
  {
   "cell_type": "markdown",
   "id": "1fea0116-3136-4ff4-83a7-7238d5d55fbf",
   "metadata": {
    "jp-MarkdownHeadingCollapsed": true
   },
   "source": [
    "### CFO"
   ]
  },
  {
   "cell_type": "code",
   "execution_count": 22,
   "id": "ae1ca723-f15b-4ae8-a82f-2ba6ec663cb7",
   "metadata": {},
   "outputs": [],
   "source": [
    "cfo_df = pd.merge(b_df[\"TotalAssets\"],c_df['CashfromOperatingActivities'], left_index=True, right_index=True)\n",
    "cfo_df = cfo_df.astype(float)\n",
    "cfo_df[\"cfo\"] = cfo_df[\"CashfromOperatingActivities\"] / cfo_df[\"TotalAssets\"]"
   ]
  },
  {
   "cell_type": "code",
   "execution_count": 23,
   "id": "9d14795a-74d8-4b8d-88a7-ebcecedc7abb",
   "metadata": {},
   "outputs": [
    {
     "data": {
      "text/html": [
       "<div>\n",
       "<style scoped>\n",
       "    .dataframe tbody tr th:only-of-type {\n",
       "        vertical-align: middle;\n",
       "    }\n",
       "\n",
       "    .dataframe tbody tr th {\n",
       "        vertical-align: top;\n",
       "    }\n",
       "\n",
       "    .dataframe thead th {\n",
       "        text-align: right;\n",
       "    }\n",
       "</style>\n",
       "<table border=\"1\" class=\"dataframe\">\n",
       "  <thead>\n",
       "    <tr style=\"text-align: right;\">\n",
       "      <th></th>\n",
       "      <th>TotalAssets</th>\n",
       "      <th>CashfromOperatingActivities</th>\n",
       "      <th>cfo</th>\n",
       "    </tr>\n",
       "    <tr>\n",
       "      <th>Year_Date</th>\n",
       "      <th></th>\n",
       "      <th></th>\n",
       "      <th></th>\n",
       "    </tr>\n",
       "  </thead>\n",
       "  <tbody>\n",
       "    <tr>\n",
       "      <th>2024</th>\n",
       "      <td>6.733779e+06</td>\n",
       "      <td>21632.4300</td>\n",
       "      <td>0.003213</td>\n",
       "    </tr>\n",
       "    <tr>\n",
       "      <th>2023</th>\n",
       "      <td>5.954418e+06</td>\n",
       "      <td>-86013.6796</td>\n",
       "      <td>-0.014445</td>\n",
       "    </tr>\n",
       "    <tr>\n",
       "      <th>2022</th>\n",
       "      <td>5.360884e+06</td>\n",
       "      <td>57694.8464</td>\n",
       "      <td>0.010762</td>\n",
       "    </tr>\n",
       "    <tr>\n",
       "      <th>2021</th>\n",
       "      <td>4.845619e+06</td>\n",
       "      <td>89918.9301</td>\n",
       "      <td>0.018557</td>\n",
       "    </tr>\n",
       "    <tr>\n",
       "      <th>2020</th>\n",
       "      <td>4.197492e+06</td>\n",
       "      <td>23928.5317</td>\n",
       "      <td>0.005701</td>\n",
       "    </tr>\n",
       "    <tr>\n",
       "      <th>2019</th>\n",
       "      <td>3.888464e+06</td>\n",
       "      <td>29556.0050</td>\n",
       "      <td>0.007601</td>\n",
       "    </tr>\n",
       "    <tr>\n",
       "      <th>2024-03-31</th>\n",
       "      <td>6.733779e+06</td>\n",
       "      <td>21632.4300</td>\n",
       "      <td>0.003213</td>\n",
       "    </tr>\n",
       "    <tr>\n",
       "      <th>2023-12-31</th>\n",
       "      <td>NaN</td>\n",
       "      <td>NaN</td>\n",
       "      <td>NaN</td>\n",
       "    </tr>\n",
       "    <tr>\n",
       "      <th>2023-09-30</th>\n",
       "      <td>6.317053e+06</td>\n",
       "      <td>54713.7600</td>\n",
       "      <td>0.008661</td>\n",
       "    </tr>\n",
       "    <tr>\n",
       "      <th>2023-06-30</th>\n",
       "      <td>NaN</td>\n",
       "      <td>NaN</td>\n",
       "      <td>NaN</td>\n",
       "    </tr>\n",
       "    <tr>\n",
       "      <th>2023-03-31</th>\n",
       "      <td>5.954418e+06</td>\n",
       "      <td>-86013.6796</td>\n",
       "      <td>-0.014445</td>\n",
       "    </tr>\n",
       "  </tbody>\n",
       "</table>\n",
       "</div>"
      ],
      "text/plain": [
       "             TotalAssets  CashfromOperatingActivities       cfo\n",
       "Year_Date                                                      \n",
       "2024        6.733779e+06                   21632.4300  0.003213\n",
       "2023        5.954418e+06                  -86013.6796 -0.014445\n",
       "2022        5.360884e+06                   57694.8464  0.010762\n",
       "2021        4.845619e+06                   89918.9301  0.018557\n",
       "2020        4.197492e+06                   23928.5317  0.005701\n",
       "2019        3.888464e+06                   29556.0050  0.007601\n",
       "2024-03-31  6.733779e+06                   21632.4300  0.003213\n",
       "2023-12-31           NaN                          NaN       NaN\n",
       "2023-09-30  6.317053e+06                   54713.7600  0.008661\n",
       "2023-06-30           NaN                          NaN       NaN\n",
       "2023-03-31  5.954418e+06                  -86013.6796 -0.014445"
      ]
     },
     "execution_count": 23,
     "metadata": {},
     "output_type": "execute_result"
    }
   ],
   "source": [
    "cfo_df"
   ]
  },
  {
   "cell_type": "markdown",
   "id": "deab966d-4ff8-4046-a07d-4ebdb856bd89",
   "metadata": {
    "jp-MarkdownHeadingCollapsed": true
   },
   "source": [
    "### Delta ROA"
   ]
  },
  {
   "cell_type": "code",
   "execution_count": 49,
   "id": "e7668f7d-1806-4293-a407-b7f954d738d1",
   "metadata": {},
   "outputs": [],
   "source": [
    "yearList = []\n",
    "delta_roa_df = pd.DataFrame()\n",
    "for date in roa_df.index:\n",
    "    if len(date) == 4:\n",
    "        yearList.append(date)\n",
    "    else:\n",
    "        pass\n",
    "delta_roa = []\n",
    "for idx in range(0,len(yearList)-1):\n",
    "    delta_roa.append(roa_df.loc[yearList[idx]][\"roa\"] - roa_df.loc[yearList[idx+1]][\"roa\"])\n",
    "yearList = list(map(int, yearList))\n",
    "delta_roa_df[\"year\"] = yearList[:-1]\n",
    "delta_roa_df[\"delta_roa\"] = delta_roa"
   ]
  },
  {
   "cell_type": "code",
   "execution_count": 50,
   "id": "ff599c3c-8cde-4730-a3c5-a3d118b7d023",
   "metadata": {},
   "outputs": [
    {
     "data": {
      "text/html": [
       "<div>\n",
       "<style scoped>\n",
       "    .dataframe tbody tr th:only-of-type {\n",
       "        vertical-align: middle;\n",
       "    }\n",
       "\n",
       "    .dataframe tbody tr th {\n",
       "        vertical-align: top;\n",
       "    }\n",
       "\n",
       "    .dataframe thead th {\n",
       "        text-align: right;\n",
       "    }\n",
       "</style>\n",
       "<table border=\"1\" class=\"dataframe\">\n",
       "  <thead>\n",
       "    <tr style=\"text-align: right;\">\n",
       "      <th></th>\n",
       "      <th>year</th>\n",
       "      <th>delta_roa</th>\n",
       "    </tr>\n",
       "  </thead>\n",
       "  <tbody>\n",
       "    <tr>\n",
       "      <th>0</th>\n",
       "      <td>2024</td>\n",
       "      <td>0.000617</td>\n",
       "    </tr>\n",
       "    <tr>\n",
       "      <th>1</th>\n",
       "      <td>2023</td>\n",
       "      <td>0.002747</td>\n",
       "    </tr>\n",
       "    <tr>\n",
       "      <th>2</th>\n",
       "      <td>2022</td>\n",
       "      <td>0.001975</td>\n",
       "    </tr>\n",
       "    <tr>\n",
       "      <th>3</th>\n",
       "      <td>2021</td>\n",
       "      <td>-0.000840</td>\n",
       "    </tr>\n",
       "    <tr>\n",
       "      <th>4</th>\n",
       "      <td>2020</td>\n",
       "      <td>0.004872</td>\n",
       "    </tr>\n",
       "  </tbody>\n",
       "</table>\n",
       "</div>"
      ],
      "text/plain": [
       "   year  delta_roa\n",
       "0  2024   0.000617\n",
       "1  2023   0.002747\n",
       "2  2022   0.001975\n",
       "3  2021  -0.000840\n",
       "4  2020   0.004872"
      ]
     },
     "execution_count": 50,
     "metadata": {},
     "output_type": "execute_result"
    }
   ],
   "source": [
    "delta_roa_df"
   ]
  },
  {
   "cell_type": "markdown",
   "id": "b555bd85-2450-43ce-9643-293fd8834c38",
   "metadata": {
    "jp-MarkdownHeadingCollapsed": true
   },
   "source": [
    "### Accrual"
   ]
  },
  {
   "cell_type": "code",
   "execution_count": 55,
   "id": "081e903e-0527-4f56-b5f4-118c0a7e32bc",
   "metadata": {},
   "outputs": [],
   "source": [
    "accrual_df = pd.DataFrame()\n",
    "accrual_df[\"roa\"] = roa_df[\"roa\"]\n",
    "accrual_df[\"cfo\"] = cfo_df.dropna()[\"cfo\"]\n",
    "accrual_df[\"accrual\"] = roa_df[\"roa\"] - cfo_df.dropna()[\"cfo\"]"
   ]
  },
  {
   "cell_type": "code",
   "execution_count": 56,
   "id": "8c134241-d4cc-40d9-9174-77022ebfd203",
   "metadata": {},
   "outputs": [
    {
     "data": {
      "text/html": [
       "<div>\n",
       "<style scoped>\n",
       "    .dataframe tbody tr th:only-of-type {\n",
       "        vertical-align: middle;\n",
       "    }\n",
       "\n",
       "    .dataframe tbody tr th {\n",
       "        vertical-align: top;\n",
       "    }\n",
       "\n",
       "    .dataframe thead th {\n",
       "        text-align: right;\n",
       "    }\n",
       "</style>\n",
       "<table border=\"1\" class=\"dataframe\">\n",
       "  <thead>\n",
       "    <tr style=\"text-align: right;\">\n",
       "      <th></th>\n",
       "      <th>roa</th>\n",
       "      <th>cfo</th>\n",
       "      <th>accrual</th>\n",
       "    </tr>\n",
       "    <tr>\n",
       "      <th>Year_Date</th>\n",
       "      <th></th>\n",
       "      <th></th>\n",
       "      <th></th>\n",
       "    </tr>\n",
       "  </thead>\n",
       "  <tbody>\n",
       "    <tr>\n",
       "      <th>2024</th>\n",
       "      <td>0.009962</td>\n",
       "      <td>0.003213</td>\n",
       "      <td>0.006750</td>\n",
       "    </tr>\n",
       "    <tr>\n",
       "      <th>2023</th>\n",
       "      <td>0.009346</td>\n",
       "      <td>-0.014445</td>\n",
       "      <td>0.023791</td>\n",
       "    </tr>\n",
       "    <tr>\n",
       "      <th>2022</th>\n",
       "      <td>0.006599</td>\n",
       "      <td>0.010762</td>\n",
       "      <td>-0.004164</td>\n",
       "    </tr>\n",
       "    <tr>\n",
       "      <th>2021</th>\n",
       "      <td>0.004624</td>\n",
       "      <td>0.018557</td>\n",
       "      <td>-0.013933</td>\n",
       "    </tr>\n",
       "    <tr>\n",
       "      <th>2020</th>\n",
       "      <td>0.005464</td>\n",
       "      <td>0.005701</td>\n",
       "      <td>-0.000237</td>\n",
       "    </tr>\n",
       "    <tr>\n",
       "      <th>2019</th>\n",
       "      <td>0.000591</td>\n",
       "      <td>0.007601</td>\n",
       "      <td>-0.007010</td>\n",
       "    </tr>\n",
       "    <tr>\n",
       "      <th>2024-03-31</th>\n",
       "      <td>0.003176</td>\n",
       "      <td>0.003213</td>\n",
       "      <td>-0.000037</td>\n",
       "    </tr>\n",
       "    <tr>\n",
       "      <th>2023-09-30</th>\n",
       "      <td>0.002549</td>\n",
       "      <td>0.008661</td>\n",
       "      <td>-0.006113</td>\n",
       "    </tr>\n",
       "    <tr>\n",
       "      <th>2023-03-31</th>\n",
       "      <td>0.003039</td>\n",
       "      <td>-0.014445</td>\n",
       "      <td>0.017484</td>\n",
       "    </tr>\n",
       "  </tbody>\n",
       "</table>\n",
       "</div>"
      ],
      "text/plain": [
       "                 roa       cfo   accrual\n",
       "Year_Date                               \n",
       "2024        0.009962  0.003213  0.006750\n",
       "2023        0.009346 -0.014445  0.023791\n",
       "2022        0.006599  0.010762 -0.004164\n",
       "2021        0.004624  0.018557 -0.013933\n",
       "2020        0.005464  0.005701 -0.000237\n",
       "2019        0.000591  0.007601 -0.007010\n",
       "2024-03-31  0.003176  0.003213 -0.000037\n",
       "2023-09-30  0.002549  0.008661 -0.006113\n",
       "2023-03-31  0.003039 -0.014445  0.017484"
      ]
     },
     "execution_count": 56,
     "metadata": {},
     "output_type": "execute_result"
    }
   ],
   "source": [
    "accrual_df"
   ]
  },
  {
   "cell_type": "code",
   "execution_count": null,
   "id": "9d6a539b-18f4-4382-958e-6d31ce43ac20",
   "metadata": {},
   "outputs": [],
   "source": []
  }
 ],
 "metadata": {
  "kernelspec": {
   "display_name": "Python 3 (ipykernel)",
   "language": "python",
   "name": "python3"
  },
  "language_info": {
   "codemirror_mode": {
    "name": "ipython",
    "version": 3
   },
   "file_extension": ".py",
   "mimetype": "text/x-python",
   "name": "python",
   "nbconvert_exporter": "python",
   "pygments_lexer": "ipython3",
   "version": "3.10.13"
  }
 },
 "nbformat": 4,
 "nbformat_minor": 5
}
