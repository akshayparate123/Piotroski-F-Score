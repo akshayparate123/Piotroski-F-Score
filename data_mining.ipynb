{
 "cells": [
  {
   "cell_type": "markdown",
   "id": "3296d939-f49a-4bdd-b1fa-cf7c547bb2ba",
   "metadata": {},
   "source": [
    "# Piotriski Strategy Data Mining"
   ]
  },
  {
   "cell_type": "markdown",
   "id": "e175af2b-6393-4160-9231-a38ea8421ee6",
   "metadata": {},
   "source": [
    "### Get Data"
   ]
  },
  {
   "cell_type": "code",
   "execution_count": 1,
   "id": "4e2e6613",
   "metadata": {},
   "outputs": [],
   "source": [
    "import requests \n",
    "import pandas as pd\n",
    "from bs4 import BeautifulSoup \n",
    "import json\n",
    "def get_data(URL):\n",
    "    stockFinancialData = []\n",
    "    try:\n",
    "        r = requests.get(URL) \n",
    "        soup = BeautifulSoup(r.content, 'html5lib') \n",
    "        script = soup.find('script', attrs = {'id':'__NEXT_DATA__'})  \n",
    "        line_str = str(script)\n",
    "        first_line = '<script id=\"__NEXT_DATA__\" type=\"application/json\">'\n",
    "        second_line = \"</script>\"\n",
    "        idx1 = line_str.find(first_line)\n",
    "        idx2 = line_str.find(second_line)\n",
    "        result = line_str[idx1 + len(first_line): idx2]\n",
    "        json_object = json.loads(result)\n",
    "        stockFinancialData = json_object['props']['pageProps'][\"stockFinancialData\"]\n",
    "        return stockFinancialData\n",
    "    except Exception as e:\n",
    "        print(e)\n",
    "        return stockFinancialData"
   ]
  },
  {
   "cell_type": "markdown",
   "id": "ad38e2fe-fa4f-49ba-abff-b0a83a3a78bf",
   "metadata": {},
   "source": [
    "### Data Structuring"
   ]
  },
  {
   "cell_type": "code",
   "execution_count": 2,
   "id": "b7be6056",
   "metadata": {},
   "outputs": [],
   "source": [
    "def data_structuring(stockFinancialData):\n",
    "    annualCashFlow = {}\n",
    "    annualBalance = {}\n",
    "    annualIncome = {}\n",
    "    quarterlyCashFlow = {}\n",
    "    quarterlyBalance = {}\n",
    "    quarterlyIncome = {}\n",
    "    for i in range(0,len(stockFinancialData)):\n",
    "        #Checking if the report is Annual or not\n",
    "        if stockFinancialData[i][\"Type\"] == \"Annual\":\n",
    "            fiscalYear = stockFinancialData[i][\"FiscalYear\"]\n",
    "            annualCashFlow[fiscalYear] = {}\n",
    "            annualBalance[fiscalYear] = {}\n",
    "            annualIncome[fiscalYear] = {}\n",
    "            try:\n",
    "                cashFlow = stockFinancialData[i][\"stockFinancialMap\"][\"CAS\"]\n",
    "                balanceSheet = stockFinancialData[i][\"stockFinancialMap\"][\"BAL\"]\n",
    "                incomeStatement = stockFinancialData[i][\"stockFinancialMap\"][\"INC\"]\n",
    "                for cash in cashFlow:\n",
    "                    annualCashFlow[fiscalYear][cash[\"key\"]] = cash[\"value\"]\n",
    "                for balance in balanceSheet:\n",
    "                    annualBalance[fiscalYear][balance[\"key\"]] = balance[\"value\"]\n",
    "                for income in incomeStatement:\n",
    "                    annualIncome[fiscalYear][income[\"key\"]] = income[\"value\"]\n",
    "            except Exception as e:\n",
    "                print(\"Skipping this year for stock\",e)\n",
    "        else:\n",
    "            endDate = stockFinancialData[i][\"EndDate\"]\n",
    "            quarterlyCashFlow[endDate] = {}\n",
    "            quarterlyBalance[endDate] = {}\n",
    "            quarterlyIncome[endDate] = {}\n",
    "            # incomeStatement = []\n",
    "            try:\n",
    "                incomeStatement = stockFinancialData[i][\"stockFinancialMap\"][\"INC\"]\n",
    "                cashFlow = stockFinancialData[i][\"stockFinancialMap\"][\"CAS\"]\n",
    "                balanceSheet = stockFinancialData[i][\"stockFinancialMap\"][\"BAL\"]\n",
    "                for cash in cashFlow:\n",
    "                    quarterlyCashFlow[endDate][cash[\"key\"]] = cash[\"value\"]\n",
    "                for balance in balanceSheet:\n",
    "                    quarterlyBalance[endDate][balance[\"key\"]] = balance[\"value\"]\n",
    "                for income in incomeStatement:\n",
    "                    quarterlyIncome[endDate][income[\"key\"]] = income[\"value\"]\n",
    "            except Exception as e:\n",
    "                # print(\"Cashflow and balance not found for {}\".format(endDate))\n",
    "                for income in incomeStatement:\n",
    "                    quarterlyIncome[endDate][income[\"key\"]] = income[\"value\"]\n",
    "    return annualCashFlow,annualBalance,annualIncome,quarterlyCashFlow,quarterlyBalance,quarterlyIncome\n",
    "            \n",
    "\n"
   ]
  },
  {
   "cell_type": "code",
   "execution_count": 3,
   "id": "e914e2d7-d1b5-4f6b-afdf-ec6d5ec3c40b",
   "metadata": {},
   "outputs": [],
   "source": [
    "characters_to_replace = ['/', '(', ')', '-']\n",
    "def change_column_names(s, chars, replacement='_'):\n",
    "    for char in chars:\n",
    "        s = s.replace(char, replacement)\n",
    "    return s"
   ]
  },
  {
   "cell_type": "markdown",
   "id": "2c34154f-458f-499f-89db-6733014d34ef",
   "metadata": {},
   "source": [
    "### Generate DataFrames"
   ]
  },
  {
   "cell_type": "code",
   "execution_count": 4,
   "id": "86f3babc-eba4-42c6-ae5f-f0068718a6b0",
   "metadata": {},
   "outputs": [],
   "source": [
    "from sqlalchemy import create_engine,inspect\n",
    "sql_creds = json.load(open(\"creds.json\"))\n",
    "user = sql_creds[\"sql_creds\"][\"user\"]\n",
    "passw = sql_creds[\"sql_creds\"][\"passw\"]\n",
    "host = sql_creds[\"sql_creds\"][\"host\"]\n",
    "port = 3306\n",
    "database = 'stock_fundamentals'\n",
    "# Create an engine instance\n",
    "engine = create_engine(f'mysql+pymysql://{user}:{passw}@{host}:{port}/{database}')\n",
    "\n",
    "def generate_dataframes(annual,quarterly,stockName):\n",
    "    annualdf = pd.DataFrame(annual).transpose()\n",
    "    annualdf[\"Annual/Quarter\"] = \"Annual\"\n",
    "    quarter_df = pd.DataFrame(quarterly).transpose()\n",
    "    quarter_df[\"Annual/Quarter\"] = \"Quarter\"\n",
    "    finalDf = pd.concat([annualdf, quarter_df], axis=0)\n",
    "    finalDf[\"stockName\"] = stockName\n",
    "    finalDf = finalDf.reset_index()\n",
    "    modified_columns_names = [change_column_names(s, characters_to_replace) for s in list(finalDf.columns)]\n",
    "    finalDf.columns = modified_columns_names\n",
    "    finalDf = finalDf.rename(columns={'index': 'Year_Date'})\n",
    "    return finalDf"
   ]
  },
  {
   "cell_type": "markdown",
   "id": "6d86b7dc-0c84-4761-a81b-e70a25ab224c",
   "metadata": {},
   "source": [
    "### Preventing Duplication"
   ]
  },
  {
   "cell_type": "code",
   "execution_count": 5,
   "id": "68319f33-0782-46eb-8131-789b3977af8f",
   "metadata": {},
   "outputs": [],
   "source": [
    "def check_if_data_already_exists_in_dataframe(existing_df,new_df,tableName):\n",
    "    dataframes = [existing_df,new_df]\n",
    "    all_columns = list(set().union(*(df.columns for df in dataframes)))\n",
    "    # Ensure all DataFrames have the same columns\n",
    "    for i, df in enumerate(dataframes):\n",
    "        for col in all_columns:\n",
    "            if col not in df.columns:\n",
    "                df[col] = pd.NA\n",
    "        dataframes[i] = df[all_columns]\n",
    "    # Concatenate all DataFrames\n",
    "    combined_df = pd.concat(dataframes, ignore_index=True)\n",
    "    unique_stocks = combined_df['stockName'].unique()\n",
    "    df_unique = pd.DataFrame()\n",
    "    for u in unique_stocks:\n",
    "        temp_df = combined_df[combined_df[\"stockName\"]== u]\n",
    "        temp_df = temp_df.drop_duplicates(subset=['Year_Date'])\n",
    "        df_unique = pd.concat([df_unique,temp_df], ignore_index=True)\n",
    "    return df_unique"
   ]
  },
  {
   "cell_type": "markdown",
   "id": "7818ff0a-605d-4b41-857a-e86e73dad3fe",
   "metadata": {},
   "source": [
    "### Merge DataFrames"
   ]
  },
  {
   "cell_type": "code",
   "execution_count": 6,
   "id": "e24eb27c-f003-4a90-bb9a-b9cd0dc88e13",
   "metadata": {},
   "outputs": [],
   "source": [
    "def merge_dataframes(dataframes,existing_df,tableName,flag):\n",
    "    all_columns = list(set().union(*(df.columns for df in dataframes)))\n",
    "    # Ensure all DataFrames have the same columns\n",
    "    for i, df in enumerate(dataframes):\n",
    "        for col in all_columns:\n",
    "            if col not in df.columns:\n",
    "                df[col] = pd.NA\n",
    "        dataframes[i] = df[all_columns]\n",
    "    \n",
    "    # Concatenate all DataFrames\n",
    "    combined_df = pd.concat(dataframes, ignore_index=True)\n",
    "    if flag:\n",
    "        combined_df = check_if_data_already_exists_in_dataframe(existing_df,combined_df,tableName)\n",
    "    return combined_df"
   ]
  },
  {
   "cell_type": "markdown",
   "id": "70289791-4ee4-4045-a29c-e46718ca994f",
   "metadata": {},
   "source": [
    "### Store Data"
   ]
  },
  {
   "cell_type": "code",
   "execution_count": 7,
   "id": "2a396e22-4b73-44b1-aa11-58f229f25cf1",
   "metadata": {},
   "outputs": [],
   "source": [
    "def get_tables_from_database():\n",
    "    inspector = inspect(engine)\n",
    "    tables = inspector.get_table_names()\n",
    "    return tables"
   ]
  },
  {
   "cell_type": "code",
   "execution_count": 8,
   "id": "b0f58b6a-c9c1-4335-b3f9-80b8962166f4",
   "metadata": {},
   "outputs": [],
   "source": [
    "def store_data(df,tableName,flag):\n",
    "    if flag:\n",
    "        df.to_sql(tableName, con=engine, if_exists='replace', index=False)\n",
    "    else:\n",
    "        df.to_sql(tableName, con=engine, if_exists='replace', index=False)\n",
    "        "
   ]
  },
  {
   "cell_type": "markdown",
   "id": "872bd452-11da-458b-9639-ac086dda8ce8",
   "metadata": {},
   "source": [
    "### Collect Data"
   ]
  },
  {
   "cell_type": "code",
   "execution_count": 9,
   "id": "9120008b-483d-41c1-8aff-8a5112b98790",
   "metadata": {
    "scrolled": true
   },
   "outputs": [
    {
     "name": "stderr",
     "output_type": "stream",
     "text": [
      "  1%|▏         | 27/1862 [00:42<47:37,  1.56s/it]  "
     ]
    },
    {
     "name": "stdout",
     "output_type": "stream",
     "text": [
      "Skipping this year for stock 'CAS'\n"
     ]
    },
    {
     "name": "stderr",
     "output_type": "stream",
     "text": [
      " 25%|██▍       | 461/1862 [12:17<39:35,  1.70s/it]  "
     ]
    },
    {
     "name": "stdout",
     "output_type": "stream",
     "text": [
      "Skipping this year for stock 'CAS'\n"
     ]
    },
    {
     "name": "stderr",
     "output_type": "stream",
     "text": [
      " 34%|███▎      | 624/1862 [15:50<32:01,  1.55s/it]"
     ]
    },
    {
     "name": "stdout",
     "output_type": "stream",
     "text": [
      "Skipping this year for stock 'CAS'\n"
     ]
    },
    {
     "name": "stderr",
     "output_type": "stream",
     "text": [
      " 34%|███▎      | 627/1862 [15:55<32:44,  1.59s/it]"
     ]
    },
    {
     "name": "stdout",
     "output_type": "stream",
     "text": [
      "Skipping this year for stock 'CAS'\n"
     ]
    },
    {
     "name": "stderr",
     "output_type": "stream",
     "text": [
      " 43%|████▎     | 801/1862 [19:56<23:23,  1.32s/it]  "
     ]
    },
    {
     "name": "stdout",
     "output_type": "stream",
     "text": [
      "Skipping this year for stock 'CAS'\n"
     ]
    },
    {
     "name": "stderr",
     "output_type": "stream",
     "text": [
      " 46%|████▌     | 849/1862 [20:57<21:56,  1.30s/it]"
     ]
    },
    {
     "name": "stdout",
     "output_type": "stream",
     "text": [
      "Skipping this year for stock 'CAS'\n"
     ]
    },
    {
     "name": "stderr",
     "output_type": "stream",
     "text": [
      " 63%|██████▎   | 1164/1862 [28:04<15:30,  1.33s/it]"
     ]
    },
    {
     "name": "stdout",
     "output_type": "stream",
     "text": [
      "Skipping this year for stock 'BAL'\n"
     ]
    },
    {
     "name": "stderr",
     "output_type": "stream",
     "text": [
      " 63%|██████▎   | 1167/1862 [28:07<14:06,  1.22s/it]"
     ]
    },
    {
     "name": "stdout",
     "output_type": "stream",
     "text": [
      "Skipping this year for stock 'CAS'\n"
     ]
    },
    {
     "name": "stderr",
     "output_type": "stream",
     "text": [
      " 65%|██████▍   | 1205/1862 [28:56<13:44,  1.25s/it]"
     ]
    },
    {
     "name": "stdout",
     "output_type": "stream",
     "text": [
      "Skipping this year for stock 'CAS'\n"
     ]
    },
    {
     "name": "stderr",
     "output_type": "stream",
     "text": [
      " 70%|██████▉   | 1303/1862 [31:09<12:58,  1.39s/it]"
     ]
    },
    {
     "name": "stdout",
     "output_type": "stream",
     "text": [
      "Skipping this year for stock 'CAS'\n"
     ]
    },
    {
     "name": "stderr",
     "output_type": "stream",
     "text": [
      " 71%|███████   | 1318/1862 [31:28<10:40,  1.18s/it]"
     ]
    },
    {
     "name": "stdout",
     "output_type": "stream",
     "text": [
      "Skipping this year for stock 'CAS'\n",
      "Skipping this year for stock 'CAS'\n"
     ]
    },
    {
     "name": "stderr",
     "output_type": "stream",
     "text": [
      " 72%|███████▏  | 1335/1862 [31:47<09:43,  1.11s/it]"
     ]
    },
    {
     "name": "stdout",
     "output_type": "stream",
     "text": [
      "Skipping this year for stock 'CAS'\n"
     ]
    },
    {
     "name": "stderr",
     "output_type": "stream",
     "text": [
      " 73%|███████▎  | 1362/1862 [32:24<10:35,  1.27s/it]"
     ]
    },
    {
     "name": "stdout",
     "output_type": "stream",
     "text": [
      "Skipping this year for stock 'CAS'\n"
     ]
    },
    {
     "name": "stderr",
     "output_type": "stream",
     "text": [
      " 73%|███████▎  | 1364/1862 [32:29<18:07,  2.18s/it]"
     ]
    },
    {
     "name": "stdout",
     "output_type": "stream",
     "text": [
      "Skipping this year for stock 'CAS'\n"
     ]
    },
    {
     "name": "stderr",
     "output_type": "stream",
     "text": [
      " 74%|███████▍  | 1374/1862 [32:42<11:20,  1.39s/it]"
     ]
    },
    {
     "name": "stdout",
     "output_type": "stream",
     "text": [
      "Skipping this year for stock 'CAS'\n",
      "Skipping this year for stock 'CAS'\n"
     ]
    },
    {
     "name": "stderr",
     "output_type": "stream",
     "text": [
      " 76%|███████▋  | 1420/1862 [33:51<10:11,  1.38s/it]"
     ]
    },
    {
     "name": "stdout",
     "output_type": "stream",
     "text": [
      "Skipping this year for stock 'CAS'\n"
     ]
    },
    {
     "name": "stderr",
     "output_type": "stream",
     "text": [
      " 77%|███████▋  | 1429/1862 [34:09<18:37,  2.58s/it]"
     ]
    },
    {
     "name": "stdout",
     "output_type": "stream",
     "text": [
      "Skipping this year for stock 'CAS'\n"
     ]
    },
    {
     "name": "stderr",
     "output_type": "stream",
     "text": [
      " 81%|████████  | 1509/1862 [36:17<13:52,  2.36s/it]"
     ]
    },
    {
     "name": "stdout",
     "output_type": "stream",
     "text": [
      "Skipping this year for stock 'CAS'\n"
     ]
    },
    {
     "name": "stderr",
     "output_type": "stream",
     "text": [
      " 82%|████████▏ | 1524/1862 [36:44<08:40,  1.54s/it]"
     ]
    },
    {
     "name": "stdout",
     "output_type": "stream",
     "text": [
      "Skipping this year for stock 'CAS'\n",
      "Skipping this year for stock 'CAS'\n"
     ]
    },
    {
     "name": "stderr",
     "output_type": "stream",
     "text": [
      " 83%|████████▎ | 1545/1862 [37:16<10:41,  2.02s/it]"
     ]
    },
    {
     "name": "stdout",
     "output_type": "stream",
     "text": [
      "Skipping this year for stock 'CAS'\n"
     ]
    },
    {
     "name": "stderr",
     "output_type": "stream",
     "text": [
      " 84%|████████▎ | 1559/1862 [37:38<09:48,  1.94s/it]"
     ]
    },
    {
     "name": "stdout",
     "output_type": "stream",
     "text": [
      "Skipping this year for stock 'CAS'\n"
     ]
    },
    {
     "name": "stderr",
     "output_type": "stream",
     "text": [
      " 85%|████████▌ | 1584/1862 [38:18<09:47,  2.11s/it]"
     ]
    },
    {
     "name": "stdout",
     "output_type": "stream",
     "text": [
      "Skipping this year for stock 'CAS'\n"
     ]
    },
    {
     "name": "stderr",
     "output_type": "stream",
     "text": [
      " 85%|████████▌ | 1588/1862 [38:23<06:07,  1.34s/it]"
     ]
    },
    {
     "name": "stdout",
     "output_type": "stream",
     "text": [
      "Skipping this year for stock 'BAL'\n"
     ]
    },
    {
     "name": "stderr",
     "output_type": "stream",
     "text": [
      " 85%|████████▌ | 1591/1862 [38:28<08:16,  1.83s/it]"
     ]
    },
    {
     "name": "stdout",
     "output_type": "stream",
     "text": [
      "Skipping this year for stock 'CAS'\n",
      "Skipping this year for stock 'CAS'\n"
     ]
    },
    {
     "name": "stderr",
     "output_type": "stream",
     "text": [
      " 86%|████████▌ | 1595/1862 [38:41<12:47,  2.87s/it]"
     ]
    },
    {
     "name": "stdout",
     "output_type": "stream",
     "text": [
      "Skipping this year for stock 'CAS'\n"
     ]
    },
    {
     "name": "stderr",
     "output_type": "stream",
     "text": [
      " 86%|████████▌ | 1604/1862 [38:57<07:57,  1.85s/it]"
     ]
    },
    {
     "name": "stdout",
     "output_type": "stream",
     "text": [
      "Skipping this year for stock 'CAS'\n"
     ]
    },
    {
     "name": "stderr",
     "output_type": "stream",
     "text": [
      " 86%|████████▋ | 1610/1862 [39:13<09:04,  2.16s/it]"
     ]
    },
    {
     "name": "stdout",
     "output_type": "stream",
     "text": [
      "Skipping this year for stock 'CAS'\n",
      "Skipping this year for stock 'CAS'\n"
     ]
    },
    {
     "name": "stderr",
     "output_type": "stream",
     "text": [
      " 87%|████████▋ | 1617/1862 [39:29<12:38,  3.10s/it]"
     ]
    },
    {
     "name": "stdout",
     "output_type": "stream",
     "text": [
      "Skipping this year for stock 'CAS'\n",
      "Skipping this year for stock 'CAS'\n"
     ]
    },
    {
     "name": "stderr",
     "output_type": "stream",
     "text": [
      " 87%|████████▋ | 1618/1862 [39:31<10:15,  2.52s/it]"
     ]
    },
    {
     "name": "stdout",
     "output_type": "stream",
     "text": [
      "Skipping this year for stock 'CAS'\n"
     ]
    },
    {
     "name": "stderr",
     "output_type": "stream",
     "text": [
      " 88%|████████▊ | 1631/1862 [40:03<05:56,  1.54s/it]"
     ]
    },
    {
     "name": "stdout",
     "output_type": "stream",
     "text": [
      "Skipping this year for stock 'CAS'\n"
     ]
    },
    {
     "name": "stderr",
     "output_type": "stream",
     "text": [
      " 88%|████████▊ | 1637/1862 [40:12<05:40,  1.51s/it]"
     ]
    },
    {
     "name": "stdout",
     "output_type": "stream",
     "text": [
      "Skipping this year for stock 'CAS'\n"
     ]
    },
    {
     "name": "stderr",
     "output_type": "stream",
     "text": [
      " 90%|█████████ | 1676/1862 [41:05<04:01,  1.30s/it]"
     ]
    },
    {
     "name": "stdout",
     "output_type": "stream",
     "text": [
      "Skipping this year for stock 'CAS'\n"
     ]
    },
    {
     "name": "stderr",
     "output_type": "stream",
     "text": [
      " 90%|█████████ | 1677/1862 [41:06<03:53,  1.26s/it]"
     ]
    },
    {
     "name": "stdout",
     "output_type": "stream",
     "text": [
      "Skipping this year for stock 'CAS'\n"
     ]
    },
    {
     "name": "stderr",
     "output_type": "stream",
     "text": [
      " 91%|█████████ | 1691/1862 [41:26<04:29,  1.57s/it]"
     ]
    },
    {
     "name": "stdout",
     "output_type": "stream",
     "text": [
      "Skipping this year for stock 'CAS'\n"
     ]
    },
    {
     "name": "stderr",
     "output_type": "stream",
     "text": [
      " 92%|█████████▏| 1706/1862 [41:44<03:16,  1.26s/it]"
     ]
    },
    {
     "name": "stdout",
     "output_type": "stream",
     "text": [
      "Skipping this year for stock 'CAS'\n"
     ]
    },
    {
     "name": "stderr",
     "output_type": "stream",
     "text": [
      " 92%|█████████▏| 1714/1862 [42:02<05:06,  2.07s/it]"
     ]
    },
    {
     "name": "stdout",
     "output_type": "stream",
     "text": [
      "Skipping this year for stock 'BAL'\n"
     ]
    },
    {
     "name": "stderr",
     "output_type": "stream",
     "text": [
      " 93%|█████████▎| 1732/1862 [42:28<03:32,  1.63s/it]"
     ]
    },
    {
     "name": "stdout",
     "output_type": "stream",
     "text": [
      "Skipping this year for stock 'CAS'\n"
     ]
    },
    {
     "name": "stderr",
     "output_type": "stream",
     "text": [
      " 94%|█████████▍| 1751/1862 [42:58<02:49,  1.52s/it]"
     ]
    },
    {
     "name": "stdout",
     "output_type": "stream",
     "text": [
      "Skipping this year for stock 'CAS'\n",
      "Skipping this year for stock 'CAS'\n",
      "Skipping this year for stock 'CAS'\n",
      "Skipping this year for stock 'CAS'\n",
      "Skipping this year for stock 'CAS'\n"
     ]
    },
    {
     "name": "stderr",
     "output_type": "stream",
     "text": [
      " 95%|█████████▍| 1768/1862 [43:17<01:59,  1.28s/it]"
     ]
    },
    {
     "name": "stdout",
     "output_type": "stream",
     "text": [
      "Skipping this year for stock 'CAS'\n"
     ]
    },
    {
     "name": "stderr",
     "output_type": "stream",
     "text": [
      " 97%|█████████▋| 1800/1862 [44:00<01:39,  1.61s/it]"
     ]
    },
    {
     "name": "stdout",
     "output_type": "stream",
     "text": [
      "Skipping this year for stock 'CAS'\n",
      "Skipping this year for stock 'CAS'\n"
     ]
    },
    {
     "name": "stderr",
     "output_type": "stream",
     "text": [
      " 97%|█████████▋| 1808/1862 [44:10<01:06,  1.23s/it]"
     ]
    },
    {
     "name": "stdout",
     "output_type": "stream",
     "text": [
      "Skipping this year for stock 'CAS'\n"
     ]
    },
    {
     "name": "stderr",
     "output_type": "stream",
     "text": [
      " 98%|█████████▊| 1831/1862 [44:39<00:39,  1.26s/it]"
     ]
    },
    {
     "name": "stdout",
     "output_type": "stream",
     "text": [
      "Skipping this year for stock 'CAS'\n"
     ]
    },
    {
     "name": "stderr",
     "output_type": "stream",
     "text": [
      " 99%|█████████▉| 1840/1862 [44:52<00:35,  1.63s/it]"
     ]
    },
    {
     "name": "stdout",
     "output_type": "stream",
     "text": [
      "Skipping this year for stock 'CAS'\n"
     ]
    },
    {
     "name": "stderr",
     "output_type": "stream",
     "text": [
      " 99%|█████████▉| 1848/1862 [45:03<00:16,  1.21s/it]"
     ]
    },
    {
     "name": "stdout",
     "output_type": "stream",
     "text": [
      "Skipping this year for stock 'CAS'\n"
     ]
    },
    {
     "name": "stderr",
     "output_type": "stream",
     "text": [
      "100%|█████████▉| 1854/1862 [45:15<00:14,  1.77s/it]"
     ]
    },
    {
     "name": "stdout",
     "output_type": "stream",
     "text": [
      "Skipping this year for stock 'BAL'\n"
     ]
    },
    {
     "name": "stderr",
     "output_type": "stream",
     "text": [
      "100%|██████████| 1862/1862 [45:30<00:00,  1.47s/it]"
     ]
    },
    {
     "name": "stdout",
     "output_type": "stream",
     "text": [
      "Skipping this year for stock 'CAS'\n",
      "Skipping this year for stock 'CAS'\n"
     ]
    },
    {
     "name": "stderr",
     "output_type": "stream",
     "text": [
      "\n"
     ]
    }
   ],
   "source": [
    "from tqdm import tqdm\n",
    "livemintDetails = pd.read_csv(\"LiveMint.csv\")[[\"stockLink\",\"stockName\"]]\n",
    "stockLinks = list(livemintDetails[\"stockLink\"])\n",
    "stockNames = list(livemintDetails[\"stockName\"])\n",
    "\n",
    "db_tables = get_tables_from_database()\n",
    "flag = False\n",
    "\n",
    "df_dict = {\"cashFlowDf\":[],\"balanceSheetDf\":[],\"incomeSheetDf\":[]}\n",
    "for i in tqdm(range(0,len(stockNames))):\n",
    "    # print(i,stockNames[i])\n",
    "    try:\n",
    "        stockFinancialData = get_data(stockLinks[i])\n",
    "        annualCashFlow,annualBalance,annualIncome,quarterlyCashFlow,quarterlyBalance,quarterlyIncome = data_structuring(stockFinancialData)\n",
    "        cashFlowDf = generate_dataframes(annualCashFlow,quarterlyCashFlow,stockNames[i])\n",
    "        balanceSheetDf = generate_dataframes(annualBalance,quarterlyBalance,stockNames[i])\n",
    "        incomeSheetDf = generate_dataframes(annualIncome,quarterlyIncome,stockNames[i])\n",
    "        df_dict[\"cashFlowDf\"].append(cashFlowDf)\n",
    "        df_dict[\"balanceSheetDf\"].append(balanceSheetDf)\n",
    "        df_dict[\"incomeSheetDf\"].append(incomeSheetDf)\n",
    "    except Exception as e:\n",
    "        pass\n",
    "        # print(e)\n",
    "\n",
    "if len(db_tables) != 0:\n",
    "    flag = True\n",
    "    existing_cashFlowDf = pd.read_sql('SELECT * FROM {}'.format(\"cashflow\"), con=engine)\n",
    "    existing_balanceSheetDf = pd.read_sql('SELECT * FROM {}'.format(\"balancesheet\"), con=engine)\n",
    "    existing_incomeSheetDf = pd.read_sql('SELECT * FROM {}'.format(\"incomesheet\"), con=engine)\n",
    "    cashFlowDf = merge_dataframes(df_dict[\"cashFlowDf\"],existing_cashFlowDf,\"cashflow\",True)\n",
    "    balanceSheetDf = merge_dataframes(df_dict[\"balanceSheetDf\"],existing_balanceSheetDf,\"balancesheet\",True)\n",
    "    incomeSheetDf = merge_dataframes(df_dict[\"incomeSheetDf\"],existing_incomeSheetDf,\"incomesheet\",True)\n",
    "else:\n",
    "    flag = False\n",
    "    cashFlowDf = merge_dataframes(df_dict[\"cashFlowDf\"],[],\"cashflow\",False)\n",
    "    balanceSheetDf = merge_dataframes(df_dict[\"balanceSheetDf\"],[],\"balancesheet\",False)\n",
    "    incomeSheetDf = merge_dataframes(df_dict[\"incomeSheetDf\"],[],\"incomesheet\",False)\n",
    "\n",
    "store_data(cashFlowDf,\"cashflow\",flag)\n",
    "store_data(balanceSheetDf,\"balancesheet\",flag)\n",
    "store_data(incomeSheetDf,\"incomesheet\",flag)\n"
   ]
  },
  {
   "cell_type": "code",
   "execution_count": null,
   "id": "c45298f4-e279-4782-b38c-498017c32d49",
   "metadata": {},
   "outputs": [],
   "source": []
  },
  {
   "cell_type": "code",
   "execution_count": 153,
   "id": "f5f511ef-1020-462a-8f80-cbd25a793134",
   "metadata": {},
   "outputs": [],
   "source": [
    "\n",
    "\n",
    "\n",
    "# Function to replace characters in a string\n",
    "\n",
    "\n",
    "# Replace characters in each string in the list\n",
    "\n"
   ]
  },
  {
   "cell_type": "code",
   "execution_count": 107,
   "id": "4c5cf1dc-ab30-4e85-9c4e-02695884ad5f",
   "metadata": {},
   "outputs": [
    {
     "data": {
      "text/html": [
       "<div>\n",
       "<style scoped>\n",
       "    .dataframe tbody tr th:only-of-type {\n",
       "        vertical-align: middle;\n",
       "    }\n",
       "\n",
       "    .dataframe tbody tr th {\n",
       "        vertical-align: top;\n",
       "    }\n",
       "\n",
       "    .dataframe thead th {\n",
       "        text-align: right;\n",
       "    }\n",
       "</style>\n",
       "<table border=\"1\" class=\"dataframe\">\n",
       "  <thead>\n",
       "    <tr style=\"text-align: right;\">\n",
       "      <th></th>\n",
       "      <th>stockLink</th>\n",
       "      <th>stockName</th>\n",
       "    </tr>\n",
       "  </thead>\n",
       "  <tbody>\n",
       "    <tr>\n",
       "      <th>0</th>\n",
       "      <td>https://www.livemint.com/market/market-stats/s...</td>\n",
       "      <td>State Bank Of India</td>\n",
       "    </tr>\n",
       "    <tr>\n",
       "      <th>1</th>\n",
       "      <td>https://www.livemint.com/market/market-stats/s...</td>\n",
       "      <td>ICICI Prudential Life Insurance Company</td>\n",
       "    </tr>\n",
       "    <tr>\n",
       "      <th>2</th>\n",
       "      <td>https://www.livemint.com/market/market-stats/s...</td>\n",
       "      <td>Reliance Industries</td>\n",
       "    </tr>\n",
       "    <tr>\n",
       "      <th>3</th>\n",
       "      <td>https://www.livemint.com/market/market-stats/s...</td>\n",
       "      <td>ICICI Bank</td>\n",
       "    </tr>\n",
       "    <tr>\n",
       "      <th>4</th>\n",
       "      <td>https://www.livemint.com/market/market-stats/s...</td>\n",
       "      <td>HDFC Bank</td>\n",
       "    </tr>\n",
       "  </tbody>\n",
       "</table>\n",
       "</div>"
      ],
      "text/plain": [
       "                                           stockLink  \\\n",
       "0  https://www.livemint.com/market/market-stats/s...   \n",
       "1  https://www.livemint.com/market/market-stats/s...   \n",
       "2  https://www.livemint.com/market/market-stats/s...   \n",
       "3  https://www.livemint.com/market/market-stats/s...   \n",
       "4  https://www.livemint.com/market/market-stats/s...   \n",
       "\n",
       "                                 stockName  \n",
       "0                      State Bank Of India  \n",
       "1  ICICI Prudential Life Insurance Company  \n",
       "2                      Reliance Industries  \n",
       "3                               ICICI Bank  \n",
       "4                                HDFC Bank  "
      ]
     },
     "execution_count": 107,
     "metadata": {},
     "output_type": "execute_result"
    }
   ],
   "source": [
    "livemintDetails.head()"
   ]
  },
  {
   "cell_type": "markdown",
   "id": "8a62824f-0782-44c2-8bd5-480860b98219",
   "metadata": {
    "jp-MarkdownHeadingCollapsed": true
   },
   "source": [
    "### Get Link and Names of Stocks"
   ]
  },
  {
   "cell_type": "code",
   "execution_count": 13,
   "id": "25df8567-6492-4882-9f82-66886545fd13",
   "metadata": {},
   "outputs": [
    {
     "name": "stdout",
     "output_type": "stream",
     "text": [
      "Requirement already satisfied: html5lib in c:\\users\\akshay\\anaconda3\\envs\\tf\\lib\\site-packages (1.1)\n",
      "Requirement already satisfied: six>=1.9 in c:\\users\\akshay\\anaconda3\\envs\\tf\\lib\\site-packages (from html5lib) (1.16.0)\n",
      "Requirement already satisfied: webencodings in c:\\users\\akshay\\anaconda3\\envs\\tf\\lib\\site-packages (from html5lib) (0.5.1)\n"
     ]
    }
   ],
   "source": [
    "!pip install html5lib"
   ]
  },
  {
   "cell_type": "code",
   "execution_count": 10,
   "id": "5e799d6e-73e2-413e-963a-94020863bfcd",
   "metadata": {},
   "outputs": [],
   "source": [
    "# import requests \n",
    "# from bs4 import BeautifulSoup \n",
    "# import pandas as pd\n",
    "\n",
    "# liveMintStockDetails = {\"stockLink\":[],\"stockName\":[],\"stockSymbol\":[]}\n",
    "# for i in range(3016,5000):\n",
    "#     try:\n",
    "#         print(f'\\rProgress: {i}/{5000}', end='', flush=True)\n",
    "#         URL = \"https://www.livemint.com/market/market-stats/stocks-bajaj-finance-share-price-nse-bse-s000{}\".format(i) \n",
    "#         r = requests.get(URL) \n",
    "#         soup = BeautifulSoup(r.content, 'html5lib')\n",
    "#         stockName_div = str(soup.find('div', attrs = {'class':'stockName'}).find('h1'))\n",
    "#         stockLink_div = str(soup.find('link', attrs = {'rel':'canonical'}))\n",
    "#         sub1 = \"<h1>\"\n",
    "#         sub2 = \"</h1>\"\n",
    "#         idx1 = stockName_div.find(sub1)\n",
    "#         idx2 = stockName_div.find(sub2)\n",
    "#         stockName = stockName_div[idx1 + len(sub1): idx2][:-12]\n",
    "#         # print(i,stockName)\n",
    "#         liveMintStockDetails[\"stockName\"].append(stockName)\n",
    "#         sub1 = '<link href=\"'\n",
    "#         sub2 = 'rel=\"canonical\"/>'\n",
    "#         idx1 = stockLink_div.find(sub1)\n",
    "#         idx2 = stockLink_div.find(sub2)\n",
    "#         stockLink = stockLink_div[idx1 + len(sub1): idx2][:-2]\n",
    "#         liveMintStockDetails[\"stockLink\"].append(stockLink)\n",
    "#         head = soup.head.find_all('script')[0]\n",
    "#         modified_string = str(head).split(\":\")[-1].split(\"}\")[0].replace('\"',\"\")\n",
    "#         liveMintStockDetails[\"stockSymbol\"].append(modified_string)\n",
    "#     except Exception as e:\n",
    "#         print(\"Error\")\n",
    "# liveMintDf = pd.DataFrame(liveMintStockDetails)\n",
    "# liveMintDf.to_csv(\"LiveMint.csv\")"
   ]
  },
  {
   "cell_type": "code",
   "execution_count": 31,
   "id": "4d4b219c-f376-4d0b-a03a-8a6d4b97f6c0",
   "metadata": {},
   "outputs": [
    {
     "data": {
      "text/html": [
       "<div>\n",
       "<style scoped>\n",
       "    .dataframe tbody tr th:only-of-type {\n",
       "        vertical-align: middle;\n",
       "    }\n",
       "\n",
       "    .dataframe tbody tr th {\n",
       "        vertical-align: top;\n",
       "    }\n",
       "\n",
       "    .dataframe thead th {\n",
       "        text-align: right;\n",
       "    }\n",
       "</style>\n",
       "<table border=\"1\" class=\"dataframe\">\n",
       "  <thead>\n",
       "    <tr style=\"text-align: right;\">\n",
       "      <th></th>\n",
       "      <th>stockLink</th>\n",
       "      <th>stockName</th>\n",
       "      <th>stockSymbol</th>\n",
       "    </tr>\n",
       "  </thead>\n",
       "  <tbody>\n",
       "    <tr>\n",
       "      <th>0</th>\n",
       "      <td>https://www.livemint.com/market/market-stats/s...</td>\n",
       "      <td>State Bank Of India</td>\n",
       "      <td>SBIN</td>\n",
       "    </tr>\n",
       "    <tr>\n",
       "      <th>1</th>\n",
       "      <td>https://www.livemint.com/market/market-stats/s...</td>\n",
       "      <td>ICICI Prudential Life Insurance Company</td>\n",
       "      <td>ICICIPRULI</td>\n",
       "    </tr>\n",
       "    <tr>\n",
       "      <th>2</th>\n",
       "      <td>https://www.livemint.com/market/market-stats/s...</td>\n",
       "      <td>Reliance Industries</td>\n",
       "      <td>RELIANCE</td>\n",
       "    </tr>\n",
       "    <tr>\n",
       "      <th>3</th>\n",
       "      <td>https://www.livemint.com/market/market-stats/s...</td>\n",
       "      <td>ICICI Bank</td>\n",
       "      <td>ICICIBANK</td>\n",
       "    </tr>\n",
       "    <tr>\n",
       "      <th>4</th>\n",
       "      <td>https://www.livemint.com/market/market-stats/s...</td>\n",
       "      <td>HDFC Bank</td>\n",
       "      <td>HDFCBANK</td>\n",
       "    </tr>\n",
       "    <tr>\n",
       "      <th>5</th>\n",
       "      <td>https://www.livemint.com/market/market-stats/s...</td>\n",
       "      <td>Yes Bank</td>\n",
       "      <td>YESBANK</td>\n",
       "    </tr>\n",
       "    <tr>\n",
       "      <th>6</th>\n",
       "      <td>https://www.livemint.com/market/market-stats/s...</td>\n",
       "      <td>Tata Motors</td>\n",
       "      <td>TATAMOTORS</td>\n",
       "    </tr>\n",
       "    <tr>\n",
       "      <th>7</th>\n",
       "      <td>https://www.livemint.com/market/market-stats/s...</td>\n",
       "      <td>Indusind Bank</td>\n",
       "      <td>INDUSINDBK</td>\n",
       "    </tr>\n",
       "    <tr>\n",
       "      <th>8</th>\n",
       "      <td>https://www.livemint.com/market/market-stats/s...</td>\n",
       "      <td>Indian Railway Catering &amp;amp; Tourism Corporation</td>\n",
       "      <td>IRCTC</td>\n",
       "    </tr>\n",
       "    <tr>\n",
       "      <th>9</th>\n",
       "      <td>https://www.livemint.com/market/market-stats/s...</td>\n",
       "      <td>Larsen &amp;amp; Toubro</td>\n",
       "      <td>LT</td>\n",
       "    </tr>\n",
       "  </tbody>\n",
       "</table>\n",
       "</div>"
      ],
      "text/plain": [
       "                                           stockLink  \\\n",
       "0  https://www.livemint.com/market/market-stats/s...   \n",
       "1  https://www.livemint.com/market/market-stats/s...   \n",
       "2  https://www.livemint.com/market/market-stats/s...   \n",
       "3  https://www.livemint.com/market/market-stats/s...   \n",
       "4  https://www.livemint.com/market/market-stats/s...   \n",
       "5  https://www.livemint.com/market/market-stats/s...   \n",
       "6  https://www.livemint.com/market/market-stats/s...   \n",
       "7  https://www.livemint.com/market/market-stats/s...   \n",
       "8  https://www.livemint.com/market/market-stats/s...   \n",
       "9  https://www.livemint.com/market/market-stats/s...   \n",
       "\n",
       "                                           stockName stockSymbol  \n",
       "0                                State Bank Of India        SBIN  \n",
       "1            ICICI Prudential Life Insurance Company  ICICIPRULI  \n",
       "2                                Reliance Industries    RELIANCE  \n",
       "3                                         ICICI Bank   ICICIBANK  \n",
       "4                                          HDFC Bank    HDFCBANK  \n",
       "5                                           Yes Bank     YESBANK  \n",
       "6                                        Tata Motors  TATAMOTORS  \n",
       "7                                      Indusind Bank  INDUSINDBK  \n",
       "8  Indian Railway Catering &amp; Tourism Corporation       IRCTC  \n",
       "9                                Larsen &amp; Toubro          LT  "
      ]
     },
     "execution_count": 31,
     "metadata": {},
     "output_type": "execute_result"
    }
   ],
   "source": [
    "liveMintDf"
   ]
  },
  {
   "cell_type": "code",
   "execution_count": null,
   "id": "da99b0ed-b5c2-4802-bd0f-452347fde97b",
   "metadata": {},
   "outputs": [],
   "source": []
  },
  {
   "cell_type": "markdown",
   "id": "809caa95-5574-4a05-8500-58420698a0f7",
   "metadata": {},
   "source": [
    "### Get Board Meeting Dates"
   ]
  },
  {
   "cell_type": "code",
   "execution_count": 12,
   "id": "83faa83f-4a54-443c-9536-50e9ff5e1174",
   "metadata": {},
   "outputs": [],
   "source": [
    "import requests \n",
    "from bs4 import BeautifulSoup \n",
    "import pandas as pd\n",
    "import json"
   ]
  },
  {
   "cell_type": "code",
   "execution_count": 13,
   "id": "89cd3f52-6303-4851-b154-f37e3f42bb0d",
   "metadata": {},
   "outputs": [
    {
     "name": "stderr",
     "output_type": "stream",
     "text": [
      "100%|██████████| 1984/1984 [30:38<00:00,  1.08it/s] \n"
     ]
    }
   ],
   "source": [
    "board_meeting_dict = {'tickerId': [], 'companyName':[] , 'remarks':[] , 'boardMeetDate':[] , 'purpose':[]}\n",
    "existing_data = pd.read_sql('SELECT * FROM {}'.format(\"boardmeetdate\"), con=engine)\n",
    "for i in tqdm(range(3016,5000)):\n",
    "    try:\n",
    "        # print(f'\\rProgress: {i}/{5000}', end='', flush=True)\n",
    "        URL = \"https://www.livemint.com/tata-consultancy-services/board-meetings/companyid-s000{}\".format(i)\n",
    "        r = requests.get(URL)\n",
    "        soup = BeautifulSoup(r.content, 'html5lib')\n",
    "        script = soup.find('script', attrs = {'id':'__NEXT_DATA__'})  \n",
    "        line_str = str(script)\n",
    "        first_line = '<script id=\"__NEXT_DATA__\" type=\"application/json\">'\n",
    "        second_line = \"</script>\"\n",
    "        idx1 = line_str.find(first_line)\n",
    "        idx2 = line_str.find(second_line)\n",
    "        result = line_str[idx1 + len(first_line): idx2]\n",
    "        json_object = json.loads(result)\n",
    "        json_object = json.loads(result)\n",
    "        stockFinancialData = json_object['props']['pageProps']\n",
    "        board_meetings_schedule = stockFinancialData[\"additionalStockData\"][\"boardMeetings\"]\n",
    "        for schedule in board_meetings_schedule:\n",
    "            board_meeting_dict[\"tickerId\"].append(schedule[\"tickerId\"])\n",
    "            board_meeting_dict[\"companyName\"].append(schedule[\"companyName\"])\n",
    "            board_meeting_dict[\"remarks\"].append(schedule[\"remarks\"])\n",
    "            board_meeting_dict[\"boardMeetDate\"].append(schedule[\"boardMeetDate\"])\n",
    "            board_meeting_dict[\"purpose\"].append(schedule[\"purpose\"])\n",
    "    except Exception as e:\n",
    "        pass\n",
    "combined_df = pd.concat([pd.DataFrame(board_meeting_dict),existing_data], ignore_index=True)\n",
    "combined_df.drop_duplicates(subset=[\"companyName\",\"boardMeetDate\",\"purpose\"],keep=\"first\",inplace=True)\n",
    "store_data(combined_df,\"boardmeetdate\",True)"
   ]
  },
  {
   "cell_type": "code",
   "execution_count": null,
   "id": "3c39e52b-ecae-475a-b6e8-83ce1f755ab5",
   "metadata": {},
   "outputs": [],
   "source": []
  },
  {
   "cell_type": "code",
   "execution_count": 13,
   "id": "00f7eed7-f479-4dfe-84f9-26b8d4d2e38f",
   "metadata": {},
   "outputs": [],
   "source": []
  },
  {
   "cell_type": "code",
   "execution_count": 15,
   "id": "bda74cd5-d7ef-4acf-879d-ed3a09185527",
   "metadata": {},
   "outputs": [
    {
     "data": {
      "text/html": [
       "<div>\n",
       "<style scoped>\n",
       "    .dataframe tbody tr th:only-of-type {\n",
       "        vertical-align: middle;\n",
       "    }\n",
       "\n",
       "    .dataframe tbody tr th {\n",
       "        vertical-align: top;\n",
       "    }\n",
       "\n",
       "    .dataframe thead th {\n",
       "        text-align: right;\n",
       "    }\n",
       "</style>\n",
       "<table border=\"1\" class=\"dataframe\">\n",
       "  <thead>\n",
       "    <tr style=\"text-align: right;\">\n",
       "      <th></th>\n",
       "      <th>tickerId</th>\n",
       "      <th>companyName</th>\n",
       "      <th>remarks</th>\n",
       "      <th>boardMeetDate</th>\n",
       "      <th>purpose</th>\n",
       "    </tr>\n",
       "  </thead>\n",
       "  <tbody>\n",
       "    <tr>\n",
       "      <th>0</th>\n",
       "      <td>S0003016</td>\n",
       "      <td>State Bank Of India</td>\n",
       "      <td>Inter alia, to seek approval for raising of Lo...</td>\n",
       "      <td>2024-06-19</td>\n",
       "      <td>Others</td>\n",
       "    </tr>\n",
       "    <tr>\n",
       "      <th>1</th>\n",
       "      <td>S0003016</td>\n",
       "      <td>State Bank Of India</td>\n",
       "      <td></td>\n",
       "      <td>2024-05-09</td>\n",
       "      <td>Audited Results &amp; Final Dividend</td>\n",
       "    </tr>\n",
       "    <tr>\n",
       "      <th>2</th>\n",
       "      <td>S0003016</td>\n",
       "      <td>State Bank Of India</td>\n",
       "      <td></td>\n",
       "      <td>2024-02-03</td>\n",
       "      <td>Quarterly Results</td>\n",
       "    </tr>\n",
       "    <tr>\n",
       "      <th>3</th>\n",
       "      <td>S0003016</td>\n",
       "      <td>State Bank Of India</td>\n",
       "      <td></td>\n",
       "      <td>2023-11-04</td>\n",
       "      <td>Quarterly Results</td>\n",
       "    </tr>\n",
       "    <tr>\n",
       "      <th>4</th>\n",
       "      <td>S0003016</td>\n",
       "      <td>State Bank Of India</td>\n",
       "      <td></td>\n",
       "      <td>2023-08-04</td>\n",
       "      <td>Quarterly Results</td>\n",
       "    </tr>\n",
       "    <tr>\n",
       "      <th>...</th>\n",
       "      <td>...</td>\n",
       "      <td>...</td>\n",
       "      <td>...</td>\n",
       "      <td>...</td>\n",
       "      <td>...</td>\n",
       "    </tr>\n",
       "    <tr>\n",
       "      <th>78</th>\n",
       "      <td>S0003020</td>\n",
       "      <td>HDFC Bank</td>\n",
       "      <td></td>\n",
       "      <td>2021-10-16</td>\n",
       "      <td>Audited Results</td>\n",
       "    </tr>\n",
       "    <tr>\n",
       "      <th>79</th>\n",
       "      <td>S0003020</td>\n",
       "      <td>HDFC Bank</td>\n",
       "      <td></td>\n",
       "      <td>2021-07-17</td>\n",
       "      <td>Quarterly Results</td>\n",
       "    </tr>\n",
       "    <tr>\n",
       "      <th>80</th>\n",
       "      <td>S0003020</td>\n",
       "      <td>HDFC Bank</td>\n",
       "      <td></td>\n",
       "      <td>2021-06-18</td>\n",
       "      <td>Dividend</td>\n",
       "    </tr>\n",
       "    <tr>\n",
       "      <th>81</th>\n",
       "      <td>S0003020</td>\n",
       "      <td>HDFC Bank</td>\n",
       "      <td></td>\n",
       "      <td>2021-04-17</td>\n",
       "      <td>Audited &amp; Quarterly Results</td>\n",
       "    </tr>\n",
       "    <tr>\n",
       "      <th>82</th>\n",
       "      <td>S0003020</td>\n",
       "      <td>HDFC Bank</td>\n",
       "      <td></td>\n",
       "      <td>2021-01-16</td>\n",
       "      <td>Quarterly Results</td>\n",
       "    </tr>\n",
       "  </tbody>\n",
       "</table>\n",
       "<p>83 rows × 5 columns</p>\n",
       "</div>"
      ],
      "text/plain": [
       "    tickerId          companyName  \\\n",
       "0   S0003016  State Bank Of India   \n",
       "1   S0003016  State Bank Of India   \n",
       "2   S0003016  State Bank Of India   \n",
       "3   S0003016  State Bank Of India   \n",
       "4   S0003016  State Bank Of India   \n",
       "..       ...                  ...   \n",
       "78  S0003020            HDFC Bank   \n",
       "79  S0003020            HDFC Bank   \n",
       "80  S0003020            HDFC Bank   \n",
       "81  S0003020            HDFC Bank   \n",
       "82  S0003020            HDFC Bank   \n",
       "\n",
       "                                              remarks boardMeetDate  \\\n",
       "0   Inter alia, to seek approval for raising of Lo...    2024-06-19   \n",
       "1                                                        2024-05-09   \n",
       "2                                                        2024-02-03   \n",
       "3                                                        2023-11-04   \n",
       "4                                                        2023-08-04   \n",
       "..                                                ...           ...   \n",
       "78                                                       2021-10-16   \n",
       "79                                                       2021-07-17   \n",
       "80                                                       2021-06-18   \n",
       "81                                                       2021-04-17   \n",
       "82                                                       2021-01-16   \n",
       "\n",
       "                             purpose  \n",
       "0                             Others  \n",
       "1   Audited Results & Final Dividend  \n",
       "2                  Quarterly Results  \n",
       "3                  Quarterly Results  \n",
       "4                  Quarterly Results  \n",
       "..                               ...  \n",
       "78                   Audited Results  \n",
       "79                 Quarterly Results  \n",
       "80                          Dividend  \n",
       "81       Audited & Quarterly Results  \n",
       "82                 Quarterly Results  \n",
       "\n",
       "[83 rows x 5 columns]"
      ]
     },
     "execution_count": 15,
     "metadata": {},
     "output_type": "execute_result"
    }
   ],
   "source": []
  },
  {
   "cell_type": "code",
   "execution_count": 44,
   "id": "26c5ee17-c827-48d9-b888-a330a545907c",
   "metadata": {},
   "outputs": [],
   "source": []
  },
  {
   "cell_type": "code",
   "execution_count": 45,
   "id": "365d274c-9ad0-408a-8155-f16a2d8d8eb9",
   "metadata": {},
   "outputs": [],
   "source": []
  },
  {
   "cell_type": "code",
   "execution_count": 5,
   "id": "ea52f5f9-2637-4495-88db-b5fc32a01881",
   "metadata": {},
   "outputs": [],
   "source": [
    "pd.DataFrame(board_meeting_dict).to_csv(\"diclosure_dates_2.csv\")"
   ]
  },
  {
   "cell_type": "code",
   "execution_count": null,
   "id": "d075ac0b-3359-442f-8ee5-ae71d9a805c2",
   "metadata": {},
   "outputs": [],
   "source": []
  }
 ],
 "metadata": {
  "kernelspec": {
   "display_name": "Python 3 (ipykernel)",
   "language": "python",
   "name": "python3"
  },
  "language_info": {
   "codemirror_mode": {
    "name": "ipython",
    "version": 3
   },
   "file_extension": ".py",
   "mimetype": "text/x-python",
   "name": "python",
   "nbconvert_exporter": "python",
   "pygments_lexer": "ipython3",
   "version": "3.9.19"
  }
 },
 "nbformat": 4,
 "nbformat_minor": 5
}
