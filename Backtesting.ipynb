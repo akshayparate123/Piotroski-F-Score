{
 "cells": [
  {
   "cell_type": "code",
   "execution_count": 1,
   "id": "d604d902-1d13-4b58-846f-af5ff2813d6c",
   "metadata": {},
   "outputs": [],
   "source": [
    "# !pip install yfinance"
   ]
  },
  {
   "cell_type": "code",
   "execution_count": 1,
   "id": "e556f2c7-9a58-4cfa-9b2c-d06afdfc8836",
   "metadata": {},
   "outputs": [],
   "source": [
    "import pandas as pd\n",
    "import json\n",
    "from sqlalchemy import create_engine,inspect\n",
    "import numpy as np\n",
    "import matplotlib.pyplot as plt\n",
    "import yfinance as yf"
   ]
  },
  {
   "cell_type": "code",
   "execution_count": 2,
   "id": "2b99ce4b-63d5-4d3c-97df-ab66adcbc29e",
   "metadata": {},
   "outputs": [],
   "source": [
    "sql_creds = json.load(open(\"creds.json\"))\n",
    "user = sql_creds[\"sql_creds\"][\"user\"]\n",
    "passw = sql_creds[\"sql_creds\"][\"passw\"]\n",
    "host = sql_creds[\"sql_creds\"][\"host\"]\n",
    "port = 3306\n",
    "database = 'stock_fundamentals'\n",
    "# Create an engine instance\n",
    "engine = create_engine(f'mysql+pymysql://{user}:{passw}@{host}:{port}/{database}')"
   ]
  },
  {
   "cell_type": "code",
   "execution_count": 3,
   "id": "dc007d1a-0f68-4e95-bbe0-8e279d5ea415",
   "metadata": {},
   "outputs": [],
   "source": [
    "# stock_df = pd.read_csv(\"LiveMint.csv\")\n",
    "# piotroski_score_df = pd.read_csv(\"piotroski_score.csv\")\n",
    "# disclosure_dates_df = pd.read_csv(\"diclosure_dates_2.csv\")\n",
    "\n",
    "stock_df = pd.read_csv(\"LiveMint.csv\")\n",
    "piotroski_score_df = pd.read_sql('SELECT * FROM {}'.format(\"piotroskiscore\"), con=engine)\n",
    "disclosure_dates_df = pd.read_sql('SELECT * FROM {}'.format(\"boardmeetdate\"), con=engine)"
   ]
  },
  {
   "cell_type": "code",
   "execution_count": 4,
   "id": "2ffe8ce6-8968-4341-8745-e93c00cc3794",
   "metadata": {},
   "outputs": [
    {
     "data": {
      "text/html": [
       "<div>\n",
       "<style scoped>\n",
       "    .dataframe tbody tr th:only-of-type {\n",
       "        vertical-align: middle;\n",
       "    }\n",
       "\n",
       "    .dataframe tbody tr th {\n",
       "        vertical-align: top;\n",
       "    }\n",
       "\n",
       "    .dataframe thead th {\n",
       "        text-align: right;\n",
       "    }\n",
       "</style>\n",
       "<table border=\"1\" class=\"dataframe\">\n",
       "  <thead>\n",
       "    <tr style=\"text-align: right;\">\n",
       "      <th></th>\n",
       "      <th>Unnamed: 0</th>\n",
       "      <th>stockLink</th>\n",
       "      <th>stockName</th>\n",
       "      <th>stockSymbol</th>\n",
       "    </tr>\n",
       "  </thead>\n",
       "  <tbody>\n",
       "    <tr>\n",
       "      <th>0</th>\n",
       "      <td>0</td>\n",
       "      <td>https://www.livemint.com/market/market-stats/s...</td>\n",
       "      <td>State Bank Of India</td>\n",
       "      <td>SBIN</td>\n",
       "    </tr>\n",
       "    <tr>\n",
       "      <th>1</th>\n",
       "      <td>1</td>\n",
       "      <td>https://www.livemint.com/market/market-stats/s...</td>\n",
       "      <td>ICICI Prudential Life Insurance Company</td>\n",
       "      <td>ICICIPRULI</td>\n",
       "    </tr>\n",
       "    <tr>\n",
       "      <th>2</th>\n",
       "      <td>2</td>\n",
       "      <td>https://www.livemint.com/market/market-stats/s...</td>\n",
       "      <td>Reliance Industries</td>\n",
       "      <td>RELIANCE</td>\n",
       "    </tr>\n",
       "    <tr>\n",
       "      <th>3</th>\n",
       "      <td>3</td>\n",
       "      <td>https://www.livemint.com/market/market-stats/s...</td>\n",
       "      <td>ICICI Bank</td>\n",
       "      <td>ICICIBANK</td>\n",
       "    </tr>\n",
       "    <tr>\n",
       "      <th>4</th>\n",
       "      <td>4</td>\n",
       "      <td>https://www.livemint.com/market/market-stats/s...</td>\n",
       "      <td>HDFC Bank</td>\n",
       "      <td>HDFCBANK</td>\n",
       "    </tr>\n",
       "  </tbody>\n",
       "</table>\n",
       "</div>"
      ],
      "text/plain": [
       "   Unnamed: 0                                          stockLink  \\\n",
       "0           0  https://www.livemint.com/market/market-stats/s...   \n",
       "1           1  https://www.livemint.com/market/market-stats/s...   \n",
       "2           2  https://www.livemint.com/market/market-stats/s...   \n",
       "3           3  https://www.livemint.com/market/market-stats/s...   \n",
       "4           4  https://www.livemint.com/market/market-stats/s...   \n",
       "\n",
       "                                 stockName stockSymbol  \n",
       "0                      State Bank Of India        SBIN  \n",
       "1  ICICI Prudential Life Insurance Company  ICICIPRULI  \n",
       "2                      Reliance Industries    RELIANCE  \n",
       "3                               ICICI Bank   ICICIBANK  \n",
       "4                                HDFC Bank    HDFCBANK  "
      ]
     },
     "execution_count": 4,
     "metadata": {},
     "output_type": "execute_result"
    }
   ],
   "source": [
    "stock_df.head()"
   ]
  },
  {
   "cell_type": "code",
   "execution_count": 5,
   "id": "42349fa5-ce98-4a38-a800-c3d56e9a20a1",
   "metadata": {},
   "outputs": [
    {
     "data": {
      "text/html": [
       "<div>\n",
       "<style scoped>\n",
       "    .dataframe tbody tr th:only-of-type {\n",
       "        vertical-align: middle;\n",
       "    }\n",
       "\n",
       "    .dataframe tbody tr th {\n",
       "        vertical-align: top;\n",
       "    }\n",
       "\n",
       "    .dataframe thead th {\n",
       "        text-align: right;\n",
       "    }\n",
       "</style>\n",
       "<table border=\"1\" class=\"dataframe\">\n",
       "  <thead>\n",
       "    <tr style=\"text-align: right;\">\n",
       "      <th></th>\n",
       "      <th>delta_turnover_score</th>\n",
       "      <th>delta_margin_score</th>\n",
       "      <th>delta_eq_score</th>\n",
       "      <th>delta_liquid_score</th>\n",
       "      <th>delta_lev_score</th>\n",
       "      <th>accrual_score</th>\n",
       "      <th>delta_roa_score</th>\n",
       "      <th>cfo_score</th>\n",
       "      <th>roa_score</th>\n",
       "      <th>final_score</th>\n",
       "      <th>stock</th>\n",
       "      <th>date/year</th>\n",
       "    </tr>\n",
       "  </thead>\n",
       "  <tbody>\n",
       "    <tr>\n",
       "      <th>0</th>\n",
       "      <td>1</td>\n",
       "      <td>0</td>\n",
       "      <td>1</td>\n",
       "      <td>1</td>\n",
       "      <td>0</td>\n",
       "      <td>0</td>\n",
       "      <td>1</td>\n",
       "      <td>1</td>\n",
       "      <td>1</td>\n",
       "      <td>6</td>\n",
       "      <td>State Bank Of India</td>\n",
       "      <td>2024</td>\n",
       "    </tr>\n",
       "    <tr>\n",
       "      <th>1</th>\n",
       "      <td>1</td>\n",
       "      <td>1</td>\n",
       "      <td>0</td>\n",
       "      <td>1</td>\n",
       "      <td>0</td>\n",
       "      <td>0</td>\n",
       "      <td>1</td>\n",
       "      <td>0</td>\n",
       "      <td>1</td>\n",
       "      <td>5</td>\n",
       "      <td>State Bank Of India</td>\n",
       "      <td>2023</td>\n",
       "    </tr>\n",
       "    <tr>\n",
       "      <th>2</th>\n",
       "      <td>0</td>\n",
       "      <td>1</td>\n",
       "      <td>1</td>\n",
       "      <td>1</td>\n",
       "      <td>1</td>\n",
       "      <td>1</td>\n",
       "      <td>1</td>\n",
       "      <td>1</td>\n",
       "      <td>1</td>\n",
       "      <td>8</td>\n",
       "      <td>State Bank Of India</td>\n",
       "      <td>2022</td>\n",
       "    </tr>\n",
       "    <tr>\n",
       "      <th>3</th>\n",
       "      <td>0</td>\n",
       "      <td>1</td>\n",
       "      <td>1</td>\n",
       "      <td>0</td>\n",
       "      <td>0</td>\n",
       "      <td>1</td>\n",
       "      <td>0</td>\n",
       "      <td>1</td>\n",
       "      <td>1</td>\n",
       "      <td>5</td>\n",
       "      <td>State Bank Of India</td>\n",
       "      <td>2021</td>\n",
       "    </tr>\n",
       "    <tr>\n",
       "      <th>4</th>\n",
       "      <td>1</td>\n",
       "      <td>1</td>\n",
       "      <td>1</td>\n",
       "      <td>0</td>\n",
       "      <td>1</td>\n",
       "      <td>1</td>\n",
       "      <td>1</td>\n",
       "      <td>1</td>\n",
       "      <td>1</td>\n",
       "      <td>8</td>\n",
       "      <td>State Bank Of India</td>\n",
       "      <td>2020</td>\n",
       "    </tr>\n",
       "  </tbody>\n",
       "</table>\n",
       "</div>"
      ],
      "text/plain": [
       "   delta_turnover_score  delta_margin_score  delta_eq_score  \\\n",
       "0                     1                   0               1   \n",
       "1                     1                   1               0   \n",
       "2                     0                   1               1   \n",
       "3                     0                   1               1   \n",
       "4                     1                   1               1   \n",
       "\n",
       "   delta_liquid_score  delta_lev_score  accrual_score  delta_roa_score  \\\n",
       "0                   1                0              0                1   \n",
       "1                   1                0              0                1   \n",
       "2                   1                1              1                1   \n",
       "3                   0                0              1                0   \n",
       "4                   0                1              1                1   \n",
       "\n",
       "   cfo_score  roa_score  final_score                stock date/year  \n",
       "0          1          1            6  State Bank Of India      2024  \n",
       "1          0          1            5  State Bank Of India      2023  \n",
       "2          1          1            8  State Bank Of India      2022  \n",
       "3          1          1            5  State Bank Of India      2021  \n",
       "4          1          1            8  State Bank Of India      2020  "
      ]
     },
     "execution_count": 5,
     "metadata": {},
     "output_type": "execute_result"
    }
   ],
   "source": [
    "piotroski_score_df.head()"
   ]
  },
  {
   "cell_type": "code",
   "execution_count": 6,
   "id": "81fb2163-8452-409e-8e4f-0e6f67c881e2",
   "metadata": {},
   "outputs": [
    {
     "data": {
      "text/html": [
       "<div>\n",
       "<style scoped>\n",
       "    .dataframe tbody tr th:only-of-type {\n",
       "        vertical-align: middle;\n",
       "    }\n",
       "\n",
       "    .dataframe tbody tr th {\n",
       "        vertical-align: top;\n",
       "    }\n",
       "\n",
       "    .dataframe thead th {\n",
       "        text-align: right;\n",
       "    }\n",
       "</style>\n",
       "<table border=\"1\" class=\"dataframe\">\n",
       "  <thead>\n",
       "    <tr style=\"text-align: right;\">\n",
       "      <th></th>\n",
       "      <th>tickerId</th>\n",
       "      <th>companyName</th>\n",
       "      <th>remarks</th>\n",
       "      <th>boardMeetDate</th>\n",
       "      <th>purpose</th>\n",
       "    </tr>\n",
       "  </thead>\n",
       "  <tbody>\n",
       "    <tr>\n",
       "      <th>0</th>\n",
       "      <td>S0003016</td>\n",
       "      <td>State Bank Of India</td>\n",
       "      <td>Inter alia, to seek approval for raising of Lo...</td>\n",
       "      <td>2024-06-19</td>\n",
       "      <td>Others</td>\n",
       "    </tr>\n",
       "    <tr>\n",
       "      <th>1</th>\n",
       "      <td>S0003016</td>\n",
       "      <td>State Bank Of India</td>\n",
       "      <td></td>\n",
       "      <td>2024-05-09</td>\n",
       "      <td>Audited Results &amp; Final Dividend</td>\n",
       "    </tr>\n",
       "    <tr>\n",
       "      <th>2</th>\n",
       "      <td>S0003016</td>\n",
       "      <td>State Bank Of India</td>\n",
       "      <td></td>\n",
       "      <td>2024-02-03</td>\n",
       "      <td>Quarterly Results</td>\n",
       "    </tr>\n",
       "    <tr>\n",
       "      <th>3</th>\n",
       "      <td>S0003016</td>\n",
       "      <td>State Bank Of India</td>\n",
       "      <td></td>\n",
       "      <td>2023-11-04</td>\n",
       "      <td>Quarterly Results</td>\n",
       "    </tr>\n",
       "    <tr>\n",
       "      <th>4</th>\n",
       "      <td>S0003016</td>\n",
       "      <td>State Bank Of India</td>\n",
       "      <td></td>\n",
       "      <td>2023-08-04</td>\n",
       "      <td>Quarterly Results</td>\n",
       "    </tr>\n",
       "  </tbody>\n",
       "</table>\n",
       "</div>"
      ],
      "text/plain": [
       "   tickerId          companyName  \\\n",
       "0  S0003016  State Bank Of India   \n",
       "1  S0003016  State Bank Of India   \n",
       "2  S0003016  State Bank Of India   \n",
       "3  S0003016  State Bank Of India   \n",
       "4  S0003016  State Bank Of India   \n",
       "\n",
       "                                             remarks boardMeetDate  \\\n",
       "0  Inter alia, to seek approval for raising of Lo...    2024-06-19   \n",
       "1                                                       2024-05-09   \n",
       "2                                                       2024-02-03   \n",
       "3                                                       2023-11-04   \n",
       "4                                                       2023-08-04   \n",
       "\n",
       "                            purpose  \n",
       "0                            Others  \n",
       "1  Audited Results & Final Dividend  \n",
       "2                 Quarterly Results  \n",
       "3                 Quarterly Results  \n",
       "4                 Quarterly Results  "
      ]
     },
     "execution_count": 6,
     "metadata": {},
     "output_type": "execute_result"
    }
   ],
   "source": [
    "disclosure_dates_df.head()"
   ]
  },
  {
   "cell_type": "code",
   "execution_count": 7,
   "id": "0afc5fae-e430-422f-a4ed-a285a42d7ee9",
   "metadata": {},
   "outputs": [],
   "source": [
    "companyName = disclosure_dates_df[\"companyName\"]\n",
    "boardMeetDate = disclosure_dates_df[\"boardMeetDate\"]\n",
    "purpose = disclosure_dates_df[\"purpose\"]\n",
    "\n",
    "pur = []\n",
    "date = []\n",
    "name = []\n",
    "for p,d,n in zip(purpose,boardMeetDate,companyName):\n",
    "    if (\"Audited\" in p): \n",
    "        pur.append(\"Annually\")\n",
    "        date.append(d)\n",
    "        name.append(n)\n",
    "    elif (\"Quarterly\" in p):\n",
    "        pur.append(\"Quarterly\")\n",
    "        date.append(d)\n",
    "        name.append(n)\n",
    "    else:\n",
    "        pass"
   ]
  },
  {
   "cell_type": "code",
   "execution_count": 8,
   "id": "0295bed3-f0cf-404f-abf9-e8c959961d16",
   "metadata": {},
   "outputs": [],
   "source": [
    "disclosure_dates_df = pd.DataFrame()\n",
    "disclosure_dates_df[\"companyName\"] =  name\n",
    "disclosure_dates_df[\"boardMeetDate\"] = date \n",
    "disclosure_dates_df[\"purpose\"] = pur"
   ]
  },
  {
   "cell_type": "code",
   "execution_count": null,
   "id": "30a2a5dd-e330-42a2-8bc7-a5dd9e411f1d",
   "metadata": {},
   "outputs": [],
   "source": []
  },
  {
   "cell_type": "code",
   "execution_count": 9,
   "id": "59a9f69b-d1e0-48c8-9c37-7e7803455b09",
   "metadata": {},
   "outputs": [
    {
     "name": "stdout",
     "output_type": "stream",
     "text": [
      "Progress: 1797/1798"
     ]
    }
   ],
   "source": [
    "from datetime import datetime\n",
    "new_dict = {\"companyName\":[],\"disclosure_date\":[],\"piotroski_score\":[],\"purpose\":[]}\n",
    "unique_stocks = disclosure_dates_df[\"companyName\"].unique()\n",
    "\n",
    "for counter,stock in enumerate(unique_stocks):\n",
    "    print(f'\\rProgress: {counter}/{len(unique_stocks)}', end='', flush=True)\n",
    "    dates = disclosure_dates_df[disclosure_dates_df[\"companyName\"] == stock]\n",
    "    score = piotroski_score_df[piotroski_score_df[\"stock\"] == stock]\n",
    "    annual_dates = dates[dates[\"purpose\"] == \"Annually\"]\n",
    "    quarterly_dates = dates[dates[\"purpose\"] == \"Quarterly\"]\n",
    "    for idx,s in enumerate(score[\"date/year\"]):\n",
    "        if len(s) == 4 or int(s.split(\"-\")[1]) == 3:\n",
    "            q = list(annual_dates[\"boardMeetDate\"])\n",
    "            c = list(annual_dates[\"companyName\"])\n",
    "            p = list(annual_dates[\"purpose\"])\n",
    "            a = [i.split(\"-\")[0] for i in list(annual_dates[\"boardMeetDate\"])]\n",
    "            for i in range(0,len(a)):\n",
    "                if len(s) == 4 and s == a[i]:\n",
    "                    new_dict[\"companyName\"].append(c[i])\n",
    "                    new_dict[\"disclosure_date\"].append(q[i])\n",
    "                    new_dict[\"piotroski_score\"].append(score.iloc[idx][\"final_score\"])\n",
    "                    new_dict[\"purpose\"].append(p[i])\n",
    "                elif int(s.split(\"-\")[0]) == int(a[i]):\n",
    "                    \n",
    "                    new_dict[\"companyName\"].append(c[i])\n",
    "                    new_dict[\"disclosure_date\"].append(q[i])\n",
    "                    new_dict[\"piotroski_score\"].append(score.iloc[idx][\"final_score\"])\n",
    "                    new_dict[\"purpose\"].append(\"Quarterly\"+\"-\"+s.split(\"-\")[1])\n",
    "        else:   \n",
    "            q = list(quarterly_dates[\"boardMeetDate\"])\n",
    "            c = list(quarterly_dates[\"companyName\"])\n",
    "            p = list(quarterly_dates[\"purpose\"])\n",
    "            month = 0\n",
    "            for i in range(0,len(q)):\n",
    "                datetime = datetime.strptime(q[i], '%Y-%m-%d')\n",
    "                m = datetime.month\n",
    "                y = datetime.year\n",
    "                if int(s.split(\"-\")[0]) == int(y):\n",
    "                    if m > 3 and m <=6:\n",
    "                        month = 3\n",
    "                    elif m >6 and m <=9:\n",
    "                        month = 6\n",
    "                    elif m > 9 and m <=12:\n",
    "                        month = 9\n",
    "                    else:\n",
    "                        month = 12\n",
    "                    if int(s.split(\"-\")[1]) == month:\n",
    "                        new_dict[\"companyName\"].append(c[i])\n",
    "                        new_dict[\"disclosure_date\"].append(q[i])\n",
    "                        new_dict[\"piotroski_score\"].append(score.iloc[idx][\"final_score\"])\n",
    "                        new_dict[\"purpose\"].append(p[i]+\"-\"+str(month))\n",
    "                        \n",
    "                    else:\n",
    "                        pass        \n",
    "final_df = pd.DataFrame(new_dict)     "
   ]
  },
  {
   "cell_type": "code",
   "execution_count": 10,
   "id": "c50cf106-0dbe-44a0-b04b-4d2387c09cb0",
   "metadata": {},
   "outputs": [
    {
     "data": {
      "text/html": [
       "<div>\n",
       "<style scoped>\n",
       "    .dataframe tbody tr th:only-of-type {\n",
       "        vertical-align: middle;\n",
       "    }\n",
       "\n",
       "    .dataframe tbody tr th {\n",
       "        vertical-align: top;\n",
       "    }\n",
       "\n",
       "    .dataframe thead th {\n",
       "        text-align: right;\n",
       "    }\n",
       "</style>\n",
       "<table border=\"1\" class=\"dataframe\">\n",
       "  <thead>\n",
       "    <tr style=\"text-align: right;\">\n",
       "      <th></th>\n",
       "      <th>companyName</th>\n",
       "      <th>disclosure_date</th>\n",
       "      <th>piotroski_score</th>\n",
       "      <th>purpose</th>\n",
       "    </tr>\n",
       "  </thead>\n",
       "  <tbody>\n",
       "    <tr>\n",
       "      <th>0</th>\n",
       "      <td>State Bank Of India</td>\n",
       "      <td>2024-05-09</td>\n",
       "      <td>6</td>\n",
       "      <td>Annually</td>\n",
       "    </tr>\n",
       "    <tr>\n",
       "      <th>1</th>\n",
       "      <td>State Bank Of India</td>\n",
       "      <td>2023-05-18</td>\n",
       "      <td>5</td>\n",
       "      <td>Annually</td>\n",
       "    </tr>\n",
       "    <tr>\n",
       "      <th>2</th>\n",
       "      <td>State Bank Of India</td>\n",
       "      <td>2022-05-13</td>\n",
       "      <td>8</td>\n",
       "      <td>Annually</td>\n",
       "    </tr>\n",
       "    <tr>\n",
       "      <th>3</th>\n",
       "      <td>State Bank Of India</td>\n",
       "      <td>2021-05-21</td>\n",
       "      <td>5</td>\n",
       "      <td>Annually</td>\n",
       "    </tr>\n",
       "    <tr>\n",
       "      <th>4</th>\n",
       "      <td>State Bank Of India</td>\n",
       "      <td>2024-05-09</td>\n",
       "      <td>5</td>\n",
       "      <td>Quarterly-03</td>\n",
       "    </tr>\n",
       "    <tr>\n",
       "      <th>...</th>\n",
       "      <td>...</td>\n",
       "      <td>...</td>\n",
       "      <td>...</td>\n",
       "      <td>...</td>\n",
       "    </tr>\n",
       "    <tr>\n",
       "      <th>9831</th>\n",
       "      <td>Elecon Engineering Company</td>\n",
       "      <td>2022-05-03</td>\n",
       "      <td>8</td>\n",
       "      <td>Annually</td>\n",
       "    </tr>\n",
       "    <tr>\n",
       "      <th>9832</th>\n",
       "      <td>Elecon Engineering Company</td>\n",
       "      <td>2021-05-27</td>\n",
       "      <td>9</td>\n",
       "      <td>Annually</td>\n",
       "    </tr>\n",
       "    <tr>\n",
       "      <th>9833</th>\n",
       "      <td>Elecon Engineering Company</td>\n",
       "      <td>2024-04-19</td>\n",
       "      <td>8</td>\n",
       "      <td>Quarterly-03</td>\n",
       "    </tr>\n",
       "    <tr>\n",
       "      <th>9834</th>\n",
       "      <td>Elecon Engineering Company</td>\n",
       "      <td>2023-10-20</td>\n",
       "      <td>8</td>\n",
       "      <td>Quarterly-9</td>\n",
       "    </tr>\n",
       "    <tr>\n",
       "      <th>9835</th>\n",
       "      <td>Elecon Engineering Company</td>\n",
       "      <td>2023-04-25</td>\n",
       "      <td>7</td>\n",
       "      <td>Quarterly-03</td>\n",
       "    </tr>\n",
       "  </tbody>\n",
       "</table>\n",
       "<p>9836 rows × 4 columns</p>\n",
       "</div>"
      ],
      "text/plain": [
       "                     companyName disclosure_date  piotroski_score  \\\n",
       "0            State Bank Of India      2024-05-09                6   \n",
       "1            State Bank Of India      2023-05-18                5   \n",
       "2            State Bank Of India      2022-05-13                8   \n",
       "3            State Bank Of India      2021-05-21                5   \n",
       "4            State Bank Of India      2024-05-09                5   \n",
       "...                          ...             ...              ...   \n",
       "9831  Elecon Engineering Company      2022-05-03                8   \n",
       "9832  Elecon Engineering Company      2021-05-27                9   \n",
       "9833  Elecon Engineering Company      2024-04-19                8   \n",
       "9834  Elecon Engineering Company      2023-10-20                8   \n",
       "9835  Elecon Engineering Company      2023-04-25                7   \n",
       "\n",
       "           purpose  \n",
       "0         Annually  \n",
       "1         Annually  \n",
       "2         Annually  \n",
       "3         Annually  \n",
       "4     Quarterly-03  \n",
       "...            ...  \n",
       "9831      Annually  \n",
       "9832      Annually  \n",
       "9833  Quarterly-03  \n",
       "9834   Quarterly-9  \n",
       "9835  Quarterly-03  \n",
       "\n",
       "[9836 rows x 4 columns]"
      ]
     },
     "execution_count": 10,
     "metadata": {},
     "output_type": "execute_result"
    }
   ],
   "source": [
    "final_df"
   ]
  },
  {
   "cell_type": "code",
   "execution_count": 11,
   "id": "f6ed6a85-07a0-45a7-b463-6cacbf44b96a",
   "metadata": {
    "scrolled": true
   },
   "outputs": [
    {
     "name": "stdout",
     "output_type": "stream",
     "text": [
      "Progress: 11/1862 PVRINOX L "
     ]
    },
    {
     "name": "stderr",
     "output_type": "stream",
     "text": [
      "\n",
      "1 Failed download:\n",
      "['PVRINOX.NS']: YFChartError(\"%ticker%: Data doesn't exist for startDate = 1622572200, endDate = 1654108200\")\n"
     ]
    },
    {
     "name": "stdout",
     "output_type": "stream",
     "text": [
      "min() arg is an empty sequence\n",
      "Progress: 55/1862 SPICEJET K "
     ]
    },
    {
     "name": "stderr",
     "output_type": "stream",
     "text": [
      "\n",
      "1 Failed download:\n",
      "['SPICEJET.NS']: YFChartError(\"%ticker%: Data doesn't exist for startDate = 1624991400, endDate = 1656527400\")\n"
     ]
    },
    {
     "name": "stdout",
     "output_type": "stream",
     "text": [
      "min() arg is an empty sequence\n",
      "Progress: 159/1862 UNITDSPR R Partly Paid tly Paid "
     ]
    },
    {
     "name": "stderr",
     "output_type": "stream",
     "text": [
      "\n",
      "1 Failed download:\n",
      "['UNITDSPR.NS']: YFChartError(\"%ticker%: Data doesn't exist for startDate = 1684348200, endDate = 1715970600\")\n"
     ]
    },
    {
     "name": "stdout",
     "output_type": "stream",
     "text": [
      "min() arg is an empty sequence\n",
      "Progress: 177/1862 EMBDL RK X "
     ]
    },
    {
     "name": "stderr",
     "output_type": "stream",
     "text": [
      "\n",
      "1 Failed download:\n",
      "['EMBDL.NS']: YFChartError(\"%ticker%: Data doesn't exist for startDate = 1685385000, endDate = 1717007400\")\n"
     ]
    },
    {
     "name": "stdout",
     "output_type": "stream",
     "text": [
      "min() arg is an empty sequence\n",
      "Progress: 196/1862 WATERBASE  "
     ]
    },
    {
     "name": "stderr",
     "output_type": "stream",
     "text": [
      "\n",
      "1 Failed download:\n",
      "['WATERBASE.NS']: YFPricesMissingError('$%ticker%: possibly delisted; No price data found  (1d 2024-05-29 00:00:00 -> 2025-05-29 00:00:00)')\n"
     ]
    },
    {
     "name": "stdout",
     "output_type": "stream",
     "text": [
      "$WATERBASE.NS: possibly delisted; No price data found  (1d 2024-05-29 00:00:00 -> 2025-05-29 00:00:00)\n",
      "min() arg is an empty sequence\n",
      "Progress: 281/1862 LTFOODS VR "
     ]
    },
    {
     "name": "stderr",
     "output_type": "stream",
     "text": [
      "\n",
      "1 Failed download:\n",
      "['LTFOODS.NS']: YFChartError(\"%ticker%: Data doesn't exist for startDate = 1653849000, endDate = 1685385000\")\n"
     ]
    },
    {
     "name": "stdout",
     "output_type": "stream",
     "text": [
      "min() arg is an empty sequence\n",
      "Progress: 303/1862 ADANIENSOL "
     ]
    },
    {
     "name": "stderr",
     "output_type": "stream",
     "text": [
      "\n",
      "1 Failed download:\n",
      "['ADANIENSOL.NS']: YFChartError(\"%ticker%: Data doesn't exist for startDate = 1651689000, endDate = 1683225000\")\n"
     ]
    },
    {
     "name": "stdout",
     "output_type": "stream",
     "text": [
      "min() arg is an empty sequence\n",
      "Progress: 348/1862 GOODYEAR E e "
     ]
    },
    {
     "name": "stderr",
     "output_type": "stream",
     "text": [
      "\n",
      "1 Failed download:\n",
      "['GOODYEAR.NS']: YFPricesMissingError('$%ticker%: possibly delisted; No price data found  (1d 2024-05-27 00:00:00 -> 2025-05-27 00:00:00)')\n"
     ]
    },
    {
     "name": "stdout",
     "output_type": "stream",
     "text": [
      "$GOODYEAR.NS: possibly delisted; No price data found  (1d 2024-05-27 00:00:00 -> 2025-05-27 00:00:00)\n",
      "min() arg is an empty sequence\n",
      "Progress: 358/1862 UITASBNK   "
     ]
    },
    {
     "name": "stderr",
     "output_type": "stream",
     "text": [
      "\n",
      "1 Failed download:\n",
      "['UITASBNK.NS']: YFTzMissingError('$%ticker%: possibly delisted; No timezone found')\n"
     ]
    },
    {
     "name": "stdout",
     "output_type": "stream",
     "text": [
      "min() arg is an empty sequence\n",
      "Progress: 415/1862 KPIL ESH R ks ial Services "
     ]
    },
    {
     "name": "stderr",
     "output_type": "stream",
     "text": [
      "\n",
      "1 Failed download:\n",
      "['KPIL.NS']: YFChartError(\"%ticker%: Data doesn't exist for startDate = 1652466600, endDate = 1684002600\")\n"
     ]
    },
    {
     "name": "stdout",
     "output_type": "stream",
     "text": [
      "min() arg is an empty sequence\n",
      "Progress: 486/1862 Dhani Services s (Hisar) "
     ]
    },
    {
     "name": "stderr",
     "output_type": "stream",
     "text": [
      "\n",
      "2 Failed downloads:\n",
      "['SERVICES.NS', 'DHANI']: YFTzMissingError('$%ticker%: possibly delisted; No timezone found')\n"
     ]
    },
    {
     "name": "stdout",
     "output_type": "stream",
     "text": [
      "'DataFrame' object has no attribute 'tolist'\n",
      "Progress: 540/1862 SICALLOG   "
     ]
    },
    {
     "name": "stderr",
     "output_type": "stream",
     "text": [
      "\n",
      "1 Failed download:\n",
      "['SICALLOG.NS']: YFChartError(\"%ticker%: Data doesn't exist for startDate = 1653849000, endDate = 1685385000\")\n"
     ]
    },
    {
     "name": "stdout",
     "output_type": "stream",
     "text": [
      "min() arg is an empty sequence\n",
      "Progress: 607/1862 AEGISLOG idhee Cement "
     ]
    },
    {
     "name": "stderr",
     "output_type": "stream",
     "text": [
      "\n",
      "1 Failed download:\n",
      "['AEGISLOG.NS']: YFChartError(\"%ticker%: Data doesn't exist for startDate = 1685385000, endDate = 1717007400\")\n"
     ]
    },
    {
     "name": "stdout",
     "output_type": "stream",
     "text": [
      "min() arg is an empty sequence\n",
      "Progress: 681/1862 KIRLFER AN pecial Products "
     ]
    },
    {
     "name": "stderr",
     "output_type": "stream",
     "text": [
      "\n",
      "1 Failed download:\n",
      "['KIRLFER.NS']: YFPricesMissingError('$%ticker%: possibly delisted; No price data found  (1d 2024-05-17 00:00:00 -> 2025-05-17 00:00:00)')\n"
     ]
    },
    {
     "name": "stdout",
     "output_type": "stream",
     "text": [
      "$KIRLFER.NS: possibly delisted; No price data found  (1d 2024-05-17 00:00:00 -> 2025-05-17 00:00:00)\n",
      "min() arg is an empty sequence\n",
      "Progress: 798/1862 LLOYDSENGG ics es "
     ]
    },
    {
     "name": "stderr",
     "output_type": "stream",
     "text": [
      "\n",
      "1 Failed download:\n",
      "['LLOYDSENGG.NS']: YFChartError(\"%ticker%: Data doesn't exist for startDate = 1652207400, endDate = 1683743400\")\n"
     ]
    },
    {
     "name": "stdout",
     "output_type": "stream",
     "text": [
      "min() arg is an empty sequence\n",
      "Progress: 869/1862 HNDFDS ND  tructure Finance "
     ]
    },
    {
     "name": "stderr",
     "output_type": "stream",
     "text": [
      "\n",
      "1 Failed download:\n",
      "['HNDFDS.NS']: YFChartError(\"%ticker%: Data doesn't exist for startDate = 1621967400, endDate = 1653503400\")\n"
     ]
    },
    {
     "name": "stdout",
     "output_type": "stream",
     "text": [
      "min() arg is an empty sequence\n",
      "Progress: 947/1862 SHRIRAMEPC "
     ]
    },
    {
     "name": "stderr",
     "output_type": "stream",
     "text": [
      "\n",
      "1 Failed download:\n",
      "['SHRIRAMEPC.NS']: YFTzMissingError('$%ticker%: possibly delisted; No timezone found')\n"
     ]
    },
    {
     "name": "stdout",
     "output_type": "stream",
     "text": [
      "min() arg is an empty sequence\n",
      "Progress: 1034/1862 ELNET SYN  Fash Ret Partly Paid "
     ]
    },
    {
     "name": "stderr",
     "output_type": "stream",
     "text": [
      "\n",
      "1 Failed download:\n",
      "['ELNET.NS']: YFPricesMissingError('$%ticker%: possibly delisted; No price data found  (1d 2023-05-29 00:00:00 -> 2024-05-29 00:00:00)')\n"
     ]
    },
    {
     "name": "stdout",
     "output_type": "stream",
     "text": [
      "$ELNET.NS: possibly delisted; No price data found  (1d 2023-05-29 00:00:00 -> 2024-05-29 00:00:00)\n",
      "min() arg is an empty sequence\n",
      "Progress: 1048/1862 ORIENTCER  "
     ]
    },
    {
     "name": "stderr",
     "output_type": "stream",
     "text": [
      "\n",
      "1 Failed download:\n",
      "['ORIENTCER.NS']: YFChartError(\"%ticker%: Data doesn't exist for startDate = 1653330600, endDate = 1684866600\")\n"
     ]
    },
    {
     "name": "stdout",
     "output_type": "stream",
     "text": [
      "min() arg is an empty sequence\n",
      "Progress: 1074/1862 BCP AMIND  "
     ]
    },
    {
     "name": "stderr",
     "output_type": "stream",
     "text": [
      "\n",
      "1 Failed download:\n",
      "['BCP.NS']: YFPricesMissingError('$%ticker%: possibly delisted; No price data found  (1d 2024-05-24 00:00:00 -> 2025-05-24 00:00:00)')\n"
     ]
    },
    {
     "name": "stdout",
     "output_type": "stream",
     "text": [
      "$BCP.NS: possibly delisted; No price data found  (1d 2024-05-24 00:00:00 -> 2025-05-24 00:00:00)\n",
      "min() arg is an empty sequence\n",
      "Progress: 1108/1862 VIKASWSP   "
     ]
    },
    {
     "name": "stderr",
     "output_type": "stream",
     "text": [
      "\n",
      "1 Failed download:\n",
      "['VIKASWSP.NS']: YFChartError(\"%ticker%: Data doesn't exist for startDate = 1628706600, endDate = 1660242600\")\n"
     ]
    },
    {
     "name": "stdout",
     "output_type": "stream",
     "text": [
      "min() arg is an empty sequence\n",
      "Progress: 1127/1862 LAKSELECON s & Industries "
     ]
    },
    {
     "name": "stderr",
     "output_type": "stream",
     "text": [
      "\n",
      "1 Failed download:\n",
      "['LAKSELECON.NS']: YFTzMissingError('$%ticker%: possibly delisted; No timezone found')\n"
     ]
    },
    {
     "name": "stdout",
     "output_type": "stream",
     "text": [
      "min() arg is an empty sequence\n",
      "Progress: 1197/1862 UCAL VIMOV vertising "
     ]
    },
    {
     "name": "stderr",
     "output_type": "stream",
     "text": [
      "\n",
      "1 Failed download:\n",
      "['UCAL.NS']: YFChartError(\"%ticker%: Data doesn't exist for startDate = 1652812200, endDate = 1684348200\")\n"
     ]
    },
    {
     "name": "stdout",
     "output_type": "stream",
     "text": [
      "min() arg is an empty sequence\n",
      "Progress: 1250/1862 KHATJUNKER "
     ]
    },
    {
     "name": "stderr",
     "output_type": "stream",
     "text": [
      "\n",
      "1 Failed download:\n",
      "['KHATJUNKER.NS']: YFTzMissingError('$%ticker%: possibly delisted; No timezone found')\n"
     ]
    },
    {
     "name": "stdout",
     "output_type": "stream",
     "text": [
      "min() arg is an empty sequence\n",
      "Progress: 1260/1862 SICAGEN AL "
     ]
    },
    {
     "name": "stderr",
     "output_type": "stream",
     "text": [
      "\n",
      "1 Failed download:\n",
      "['SICAGEN.NS']: YFTzMissingError('$%ticker%: possibly delisted; No timezone found')\n"
     ]
    },
    {
     "name": "stdout",
     "output_type": "stream",
     "text": [
      "min() arg is an empty sequence\n",
      "Progress: 1357/1862 Future Enterprises tems DVR "
     ]
    },
    {
     "name": "stderr",
     "output_type": "stream",
     "text": [
      "\n",
      "2 Failed downloads:\n",
      "['FUTURE', 'ENTERPRISES.NS']: YFTzMissingError('$%ticker%: possibly delisted; No timezone found')\n"
     ]
    },
    {
     "name": "stdout",
     "output_type": "stream",
     "text": [
      "'DataFrame' object has no attribute 'tolist'\n",
      "Progress: 1407/1862 SAKTHIFIN  "
     ]
    },
    {
     "name": "stderr",
     "output_type": "stream",
     "text": [
      "\n",
      "1 Failed download:\n",
      "['SAKTHIFIN.NS']: YFPricesMissingError('$%ticker%: possibly delisted; No price data found  (1d 2024-05-25 00:00:00 -> 2025-05-25 00:00:00)')\n"
     ]
    },
    {
     "name": "stdout",
     "output_type": "stream",
     "text": [
      "$SAKTHIFIN.NS: possibly delisted; No price data found  (1d 2024-05-25 00:00:00 -> 2025-05-25 00:00:00)\n",
      "min() arg is an empty sequence\n",
      "Progress: 1502/1862 INTEGRA I  eel & Agro Indu "
     ]
    },
    {
     "name": "stderr",
     "output_type": "stream",
     "text": [
      "\n",
      "1 Failed download:\n",
      "['INTEGRA.NS']: YFTzMissingError('$%ticker%: possibly delisted; No timezone found')\n"
     ]
    },
    {
     "name": "stdout",
     "output_type": "stream",
     "text": [
      "min() arg is an empty sequence\n",
      "Progress: 1506/1862 GATECH A "
     ]
    },
    {
     "name": "stderr",
     "output_type": "stream",
     "text": [
      "\n",
      "1 Failed download:\n",
      "['GATECH.NS']: YFChartError(\"%ticker%: Data doesn't exist for startDate = 1653503400, endDate = 1685039400\")\n"
     ]
    },
    {
     "name": "stdout",
     "output_type": "stream",
     "text": [
      "min() arg is an empty sequence\n",
      "Progress: 1510/1862 JUMBO "
     ]
    },
    {
     "name": "stderr",
     "output_type": "stream",
     "text": [
      "\n",
      "1 Failed download:\n",
      "['JUMBO.NS']: YFPricesMissingError('$%ticker%: possibly delisted; No price data found  (1d 2024-04-29 00:00:00 -> 2025-04-29 00:00:00)')\n"
     ]
    },
    {
     "name": "stdout",
     "output_type": "stream",
     "text": [
      "$JUMBO.NS: possibly delisted; No price data found  (1d 2024-04-29 00:00:00 -> 2025-04-29 00:00:00)\n",
      "min() arg is an empty sequence\n",
      "Progress: 1525/1862 SHAH HA A  lytex "
     ]
    },
    {
     "name": "stderr",
     "output_type": "stream",
     "text": [
      "\n",
      "1 Failed download:\n",
      "['SHAH.NS']: YFChartError(\"%ticker%: Data doesn't exist for startDate = 1651861800, endDate = 1683397800\")\n"
     ]
    },
    {
     "name": "stdout",
     "output_type": "stream",
     "text": [
      "min() arg is an empty sequence\n",
      "Progress: 1563/1862 Medico Intercontinental & Investment Company "
     ]
    },
    {
     "name": "stderr",
     "output_type": "stream",
     "text": [
      "\n",
      "2 Failed downloads:\n",
      "['INTERCONTINENTAL.NS', 'MEDICO']: YFTzMissingError('$%ticker%: possibly delisted; No timezone found')\n"
     ]
    },
    {
     "name": "stdout",
     "output_type": "stream",
     "text": [
      "'DataFrame' object has no attribute 'tolist'\n",
      "Progress: 1575/1862 Smart Finsec e Leasing & Financial Services PRF "
     ]
    },
    {
     "name": "stderr",
     "output_type": "stream",
     "text": [
      "\n",
      "2 Failed downloads:\n",
      "['SMART', 'FINSEC.NS']: YFTzMissingError('$%ticker%: possibly delisted; No timezone found')\n"
     ]
    },
    {
     "name": "stdout",
     "output_type": "stream",
     "text": [
      "'DataFrame' object has no attribute 'tolist'\n",
      "Progress: 1598/1862 SSLFINANCE anics PRF F ding "
     ]
    },
    {
     "name": "stderr",
     "output_type": "stream",
     "text": [
      "\n",
      "1 Failed download:\n",
      "['SSLFINANCE.NS']: YFTzMissingError('$%ticker%: possibly delisted; No timezone found')\n"
     ]
    },
    {
     "name": "stdout",
     "output_type": "stream",
     "text": [
      "min() arg is an empty sequence\n",
      "Progress: 1600/1862 Modern Threads India "
     ]
    },
    {
     "name": "stderr",
     "output_type": "stream",
     "text": [
      "\n",
      "3 Failed downloads:\n",
      "['THREADS', 'MODERN', 'INDIA.NS']: YFTzMissingError('$%ticker%: possibly delisted; No timezone found')\n"
     ]
    },
    {
     "name": "stdout",
     "output_type": "stream",
     "text": [
      "'DataFrame' object has no attribute 'tolist'\n",
      "Progress: 1612/1862 TULSYAN EC "
     ]
    },
    {
     "name": "stderr",
     "output_type": "stream",
     "text": [
      "\n",
      "1 Failed download:\n",
      "['TULSYAN.NS']: YFPricesMissingError('$%ticker%: possibly delisted; No price data found  (1d 2024-05-30 00:00:00 -> 2025-05-30 00:00:00)')\n"
     ]
    },
    {
     "name": "stdout",
     "output_type": "stream",
     "text": [
      "$TULSYAN.NS: possibly delisted; No price data found  (1d 2024-05-30 00:00:00 -> 2025-05-30 00:00:00)\n",
      "min() arg is an empty sequence\n",
      "Progress: 1623/1862 PRUDMOULI   Coke DVR "
     ]
    },
    {
     "name": "stderr",
     "output_type": "stream",
     "text": [
      "\n",
      "1 Failed download:\n",
      "['PRUDMOULI.NS']: YFChartError(\"%ticker%: Data doesn't exist for startDate = 1660242600, endDate = 1691778600\")\n"
     ]
    },
    {
     "name": "stdout",
     "output_type": "stream",
     "text": [
      "min() arg is an empty sequence\n",
      "Progress: 1736/1862 GTECJAINX  "
     ]
    },
    {
     "name": "stderr",
     "output_type": "stream",
     "text": [
      "\n",
      "1 Failed download:\n",
      "['GTECJAINX.NS']: YFChartError(\"%ticker%: Data doesn't exist for startDate = 1652812200, endDate = 1684348200\")\n"
     ]
    },
    {
     "name": "stdout",
     "output_type": "stream",
     "text": [
      "min() arg is an empty sequence\n",
      "Progress: 1807/1862 SOLEX TI   "
     ]
    },
    {
     "name": "stderr",
     "output_type": "stream",
     "text": [
      "\n",
      "1 Failed download:\n",
      "['SOLEX.NS']: YFTzMissingError('$%ticker%: possibly delisted; No timezone found')\n"
     ]
    },
    {
     "name": "stdout",
     "output_type": "stream",
     "text": [
      "min() arg is an empty sequence\n",
      "Progress: 1861/1862 SIIL HLOMB "
     ]
    }
   ],
   "source": [
    "import math\n",
    "import datetime\n",
    "import time\n",
    "stockNames = stock_df[\"stockName\"].tolist()\n",
    "stockSymbols = stock_df[\"stockSymbol\"].tolist()\n",
    "final_dict = {\"stock_name\":[],\"disclosure_date\":[],\"piotroski_score\":[],\"purpose\":[],\"mean_volume\":[],\"mean_close\":[],\"lowest_point_1\":[],\"stoploss\":[],\n",
    "\"1st_exit\": [],\n",
    "\"2nd_exit\": [],\n",
    "\"3rd_exit\": [],\n",
    "\"4th_exit\": [],\n",
    "\"5th_exit\": [],\n",
    "\"6th_exit\": [],\n",
    "\"7th_exit\": [],\n",
    "\"8th_exit\": [],\n",
    "\"9th_exit\": [],\n",
    "\"10th_exit\": []}\n",
    "\n",
    "exit_num = 10\n",
    "for idx1,name in enumerate(stockNames):\n",
    "    try:\n",
    "        print(f'\\rProgress: {idx1}/{len(stockNames)} {stockSymbols[idx1]} ', end='', flush=True)\n",
    "        filtered_df = final_df[final_df[\"companyName\"] == name]\n",
    "        if len(filtered_df) == 0:\n",
    "            continue\n",
    "        disclosure_dates = filtered_df[\"disclosure_date\"].tolist()\n",
    "        purpose = filtered_df[\"purpose\"].tolist()\n",
    "        score = filtered_df[\"piotroski_score\"].tolist()\n",
    "        for idx2,date in enumerate(disclosure_dates):\n",
    "            returnList = []\n",
    "            day = int(date.split(\"-\")[2]);month = int(date.split(\"-\")[1]);year = int(date.split(\"-\")[0])\n",
    "            startDate = datetime.datetime(year, month, day)\n",
    "            endDate = datetime.datetime(year+1, month, day)\n",
    "            historical_data = yf.download(stockSymbols[idx1]+\".NS\", start=startDate, end=endDate, interval='1d', progress=False)\n",
    "            close =historical_data[\"Adj Close\"].tolist()\n",
    "            open = historical_data[\"Open\"].tolist()\n",
    "            numLoop = len(close) / 21\n",
    "            numLoop = math.floor(numLoop)\n",
    "            for i in range(0,numLoop):\n",
    "                try:    \n",
    "                    returns = ((close[21*(i+1)] - close[0]) / close[0]) * 100\n",
    "                    returnList.append(returns)\n",
    "                except Exception as e:\n",
    "                    pass\n",
    "                    # print(\"returns Calculation error\")\n",
    "            if \"Annually\" in purpose[idx2]:\n",
    "                if numLoop > 2:\n",
    "                    lowest_point = min(close[0:63])\n",
    "                else:\n",
    "                    lowest_point = min(close)\n",
    "                if numLoop > 9:\n",
    "                    stoploss = min(close[0:210])\n",
    "                else:\n",
    "                    stoploss = min(close)\n",
    "            else:\n",
    "                if numLoop > 0:\n",
    "                    lowest_point = min(close[0:21])\n",
    "                else:\n",
    "                    lowest_point = min(close)\n",
    "                if numLoop > 2:\n",
    "                    stoploss = min(close[0:63])\n",
    "                else:\n",
    "                    stoploss = min(close)\n",
    "            final_dict[\"lowest_point_1\"].append(((close[0] - lowest_point)/lowest_point)*100)\n",
    "            final_dict[\"stoploss\"].append(((close[0] - stoploss)/stoploss)*100)\n",
    "            padd_num = exit_num - len(returnList)\n",
    "            if padd_num < 0:\n",
    "                padd_num = 0\n",
    "            returnList.extend([0]*padd_num)\n",
    "            final_dict[\"mean_volume\"].append(np.mean(historical_data[\"Volume\"].tolist()))\n",
    "            final_dict[\"mean_close\"].append(np.mean(historical_data[\"Close\"].tolist()))\n",
    "            final_dict[\"stock_name\"].append(name)\n",
    "            final_dict[\"disclosure_date\"].append(date)\n",
    "            final_dict[\"piotroski_score\"].append(score[idx2])\n",
    "            final_dict[\"purpose\"].append(purpose[idx2])\n",
    "            for i, number in enumerate(returnList[:exit_num]):\n",
    "                try:\n",
    "                    key = f\"{i+1}th_exit\" if i+1 > 3 else f\"{i+1}st_exit\" if i+1 == 1 else f\"{i+1}nd_exit\" if i+1 == 2 else f\"{i+1}rd_exit\"\n",
    "                    final_dict[key].append(number)\n",
    "                except Exception as e:\n",
    "                    print(e)\n",
    "    \n",
    "        time.sleep(1)\n",
    "    except Exception as e:\n",
    "        print(e)"
   ]
  },
  {
   "cell_type": "code",
   "execution_count": 14,
   "id": "6c9f744f-3249-4fd8-b807-35809cab7ce9",
   "metadata": {},
   "outputs": [
    {
     "data": {
      "text/plain": [
       "9618"
      ]
     },
     "execution_count": 14,
     "metadata": {},
     "output_type": "execute_result"
    }
   ],
   "source": [
    "from datetime import date\n",
    " \n",
    "# Returns the current local date\n",
    "today = date.today()\n",
    "pd.DataFrame(final_dict).to_sql(\"results\", con=engine, if_exists='replace', index=False)\n",
    "pd.DataFrame(final_dict).to_csv(\"./Piotroski Score Reports/piotroski_score_{}.csv\".format(today))"
   ]
  },
  {
   "cell_type": "code",
   "execution_count": null,
   "id": "0e87c6b8-d4ec-463a-b458-f055c5721535",
   "metadata": {},
   "outputs": [],
   "source": [
    "pd.DataFrame(final_dict)"
   ]
  },
  {
   "cell_type": "code",
   "execution_count": null,
   "id": "6e78e745-0eb9-4fe0-ac4e-ab27de553fcc",
   "metadata": {
    "scrolled": true
   },
   "outputs": [],
   "source": []
  },
  {
   "cell_type": "code",
   "execution_count": null,
   "id": "4c48c632-4c21-4a49-92ac-4c14f4be6d1f",
   "metadata": {},
   "outputs": [],
   "source": []
  }
 ],
 "metadata": {
  "kernelspec": {
   "display_name": "Python 3 (ipykernel)",
   "language": "python",
   "name": "python3"
  },
  "language_info": {
   "codemirror_mode": {
    "name": "ipython",
    "version": 3
   },
   "file_extension": ".py",
   "mimetype": "text/x-python",
   "name": "python",
   "nbconvert_exporter": "python",
   "pygments_lexer": "ipython3",
   "version": "3.9.19"
  }
 },
 "nbformat": 4,
 "nbformat_minor": 5
}
